{
 "cells": [
  {
   "cell_type": "markdown",
   "id": "e1439e7b",
   "metadata": {},
   "source": [
    "## Exercises\n",
    "\n",
    "#### Data Acquisition\n",
    "\n",
    "These exercises should go in a notebook or script named wrangle. Add, commit, and push your changes.\n",
    "\n",
    "This exercises use the cases, dept, and source tables from the 311_data on the Codeup MySQL server.\n",
    "\n",
    "Read the case, department, and source data into their own spark dataframes.\n",
    "\n",
    "Let's see how writing to the local disk works in spark:\n",
    "\n",
    "- Write the code necessary to store the source data in both csv and json format, store these as sources_csv and sources_json\n",
    "\n",
    "- Inspect your folder structure. What do you notice?\n",
    "\n",
    "- Inspect the data in your dataframes. Are the data types appropriate? Write the code necessary to cast the values to the appropriate types.\n",
    "\n",
    "- How old is the latest (in terms of days past SLA) currently open issue? How long has the oldest (in terms of days since opened) currently opened issue been open?\n",
    "\n",
    "- How many Stray Animal cases are there?\n",
    "\n",
    "- How many service requests that are assigned to the Field Operations department (dept_division) are not classified as \"Officer Standby\" request type (service_request_type)?\n",
    "\n",
    "- Convert the council_district column to a string column.\n",
    "\n",
    "- Extract the year from the case_closed_date column.\n",
    "\n",
    "- Convert num_days_late from days to hours in new columns num_hours_late.\n",
    "\n",
    "- Join the case data with the source and department data.\n",
    "\n",
    "- Are there any cases that do not have a request source?\n",
    "\n",
    "- What are the top 10 service request types in terms of number of requests?\n",
    "\n",
    "- What are the top 10 service request types in terms of average days late?\n",
    "\n",
    "- Does number of days late depend on department?\n",
    "\n",
    "- How do number of days late depend on department and request type?\n",
    "\n",
    "- You might have noticed that the latest date in the dataset is fairly far off from the present day. To account for this, replace any occurances of the current time with the maximum date from the dataset."
   ]
  },
  {
   "cell_type": "code",
   "execution_count": 12,
   "id": "b0c18bb0",
   "metadata": {},
   "outputs": [],
   "source": [
    "import pandas as pd\n",
    "import numpy as np\n",
    "\n",
    "from pyspark.sql import SparkSession\n",
    "from pyspark.sql.functions import *\n",
    "\n",
    "import env\n",
    "import os"
   ]
  },
  {
   "cell_type": "code",
   "execution_count": 3,
   "id": "9cea614d",
   "metadata": {},
   "outputs": [],
   "source": [
    "def get_db_url(db, user=env.user, host=env.host, password=env.password):\n",
    "    return (f'mysql+pymysql://{user}:{password}@{host}/{db}')"
   ]
  },
  {
   "cell_type": "code",
   "execution_count": 4,
   "id": "7e09e2bf",
   "metadata": {},
   "outputs": [
    {
     "name": "stderr",
     "output_type": "stream",
     "text": [
      "Setting default log level to \"WARN\".\n",
      "To adjust logging level use sc.setLogLevel(newLevel). For SparkR, use setLogLevel(newLevel).\n"
     ]
    },
    {
     "name": "stdout",
     "output_type": "stream",
     "text": [
      "22/10/24 12:36:16 WARN NativeCodeLoader: Unable to load native-hadoop library for your platform... using builtin-java classes where applicable\n"
     ]
    }
   ],
   "source": [
    "spark = SparkSession.builder.getOrCreate()"
   ]
  },
  {
   "cell_type": "code",
   "execution_count": 5,
   "id": "4271deb7",
   "metadata": {},
   "outputs": [],
   "source": [
    "url = get_db_url('311_data')"
   ]
  },
  {
   "cell_type": "code",
   "execution_count": 6,
   "id": "5a01e755",
   "metadata": {},
   "outputs": [
    {
     "data": {
      "text/plain": [
       "DataFrame[index: bigint, source_id: string, source_username: string]"
      ]
     },
     "execution_count": 6,
     "metadata": {},
     "output_type": "execute_result"
    }
   ],
   "source": [
    "query = 'select * from source'\n",
    "source = pd.read_sql(query, url)\n",
    "source = spark.createDataFrame(source)\n",
    "source"
   ]
  },
  {
   "cell_type": "code",
   "execution_count": 7,
   "id": "a2b75022",
   "metadata": {},
   "outputs": [
    {
     "data": {
      "text/plain": [
       "DataFrame[case_id: bigint, case_opened_date: string, case_closed_date: string, SLA_due_date: string, case_late: string, num_days_late: double, case_closed: string, dept_division: string, service_request_type: string, SLA_days: double, case_status: string, source_id: string, request_address: string, council_district: bigint]"
      ]
     },
     "execution_count": 7,
     "metadata": {},
     "output_type": "execute_result"
    }
   ],
   "source": [
    "query = 'select * from cases'\n",
    "df = pd.read_sql(query, url)\n",
    "df = spark.createDataFrame(df)\n",
    "df"
   ]
  },
  {
   "cell_type": "code",
   "execution_count": 8,
   "id": "213d6cca",
   "metadata": {},
   "outputs": [
    {
     "data": {
      "text/plain": [
       "DataFrame[dept_division: string, dept_name: string, standardized_dept_name: string, dept_subject_to_SLA: string]"
      ]
     },
     "execution_count": 8,
     "metadata": {},
     "output_type": "execute_result"
    }
   ],
   "source": [
    "query = 'select * from dept'\n",
    "dept = pd.read_sql(query, url)\n",
    "dept = spark.createDataFrame(dept)\n",
    "dept"
   ]
  },
  {
   "cell_type": "code",
   "execution_count": 9,
   "id": "3a62f319",
   "metadata": {},
   "outputs": [
    {
     "name": "stderr",
     "output_type": "stream",
     "text": [
      "                                                                                \r"
     ]
    }
   ],
   "source": [
    "source.write.json('data/sources_json', mode='overwrite')"
   ]
  },
  {
   "cell_type": "code",
   "execution_count": 10,
   "id": "07b79237",
   "metadata": {},
   "outputs": [
    {
     "name": "stderr",
     "output_type": "stream",
     "text": [
      "\r",
      "[Stage 1:>                                                          (0 + 8) / 8]\r",
      "\r",
      "                                                                                \r"
     ]
    }
   ],
   "source": [
    "source.write.csv('data/sources_csv', mode='overwrite')"
   ]
  },
  {
   "cell_type": "code",
   "execution_count": 13,
   "id": "2cc7ec6d",
   "metadata": {},
   "outputs": [
    {
     "data": {
      "text/plain": [
       "['.part-00002-24ba5fc4-2c09-45e9-b23d-6d95e234a81e-c000.csv.crc',\n",
       " '.part-00003-24ba5fc4-2c09-45e9-b23d-6d95e234a81e-c000.csv.crc',\n",
       " 'part-00006-24ba5fc4-2c09-45e9-b23d-6d95e234a81e-c000.csv',\n",
       " '.part-00001-24ba5fc4-2c09-45e9-b23d-6d95e234a81e-c000.csv.crc',\n",
       " 'part-00007-24ba5fc4-2c09-45e9-b23d-6d95e234a81e-c000.csv',\n",
       " '.part-00000-24ba5fc4-2c09-45e9-b23d-6d95e234a81e-c000.csv.crc',\n",
       " '._SUCCESS.crc',\n",
       " 'part-00004-24ba5fc4-2c09-45e9-b23d-6d95e234a81e-c000.csv',\n",
       " 'part-00005-24ba5fc4-2c09-45e9-b23d-6d95e234a81e-c000.csv',\n",
       " 'part-00002-24ba5fc4-2c09-45e9-b23d-6d95e234a81e-c000.csv',\n",
       " 'part-00003-24ba5fc4-2c09-45e9-b23d-6d95e234a81e-c000.csv',\n",
       " '.part-00007-24ba5fc4-2c09-45e9-b23d-6d95e234a81e-c000.csv.crc',\n",
       " '_SUCCESS',\n",
       " 'part-00000-24ba5fc4-2c09-45e9-b23d-6d95e234a81e-c000.csv',\n",
       " '.part-00006-24ba5fc4-2c09-45e9-b23d-6d95e234a81e-c000.csv.crc',\n",
       " '.part-00004-24ba5fc4-2c09-45e9-b23d-6d95e234a81e-c000.csv.crc',\n",
       " 'part-00001-24ba5fc4-2c09-45e9-b23d-6d95e234a81e-c000.csv',\n",
       " '.part-00005-24ba5fc4-2c09-45e9-b23d-6d95e234a81e-c000.csv.crc']"
      ]
     },
     "execution_count": 13,
     "metadata": {},
     "output_type": "execute_result"
    }
   ],
   "source": [
    "os.listdir('data/sources_csv')"
   ]
  },
  {
   "cell_type": "code",
   "execution_count": 14,
   "id": "e46ea4a2",
   "metadata": {},
   "outputs": [
    {
     "data": {
      "text/plain": [
       "[('case_id', 'bigint'),\n",
       " ('case_opened_date', 'string'),\n",
       " ('case_closed_date', 'string'),\n",
       " ('SLA_due_date', 'string'),\n",
       " ('case_late', 'string'),\n",
       " ('num_days_late', 'double'),\n",
       " ('case_closed', 'string'),\n",
       " ('dept_division', 'string'),\n",
       " ('service_request_type', 'string'),\n",
       " ('SLA_days', 'double'),\n",
       " ('case_status', 'string'),\n",
       " ('source_id', 'string'),\n",
       " ('request_address', 'string'),\n",
       " ('council_district', 'bigint')]"
      ]
     },
     "execution_count": 14,
     "metadata": {},
     "output_type": "execute_result"
    }
   ],
   "source": [
    "df.dtypes"
   ]
  },
  {
   "cell_type": "code",
   "execution_count": 15,
   "id": "966c904f",
   "metadata": {},
   "outputs": [],
   "source": [
    "df = df.withColumnRenamed('SLA_due_date', 'case_due_date')"
   ]
  },
  {
   "cell_type": "code",
   "execution_count": 18,
   "id": "6e8bfb2e",
   "metadata": {},
   "outputs": [],
   "source": [
    "df = (\n",
    "    df.withColumn('case_late', col('case_late') == 'YES')\n",
    "    .withColumn('case_closed', col('case_closed') == 'YES')\n",
    ")\n",
    "\n",
    "df = df.withColumn('council_district', format_string('%03d', col('council_district')))\n",
    "\n",
    "fmt = 'M/d/yy H:mm'\n",
    "df = (\n",
    "    df.withColumn('case_opened_date', to_timestamp(col('case_opened_date'), fmt))\n",
    "    .withColumn('case_closed_date', to_timestamp(col('case_closed_date'), fmt))\n",
    "    .withColumn('case_due_date', to_timestamp(col('case_due_date'), fmt))\n",
    ")"
   ]
  },
  {
   "cell_type": "code",
   "execution_count": 25,
   "id": "6da10d89",
   "metadata": {},
   "outputs": [],
   "source": [
    "df = df.withColumn('request_address', lower(trim(col('request_address'))))"
   ]
  },
  {
   "cell_type": "code",
   "execution_count": 26,
   "id": "83578324",
   "metadata": {},
   "outputs": [],
   "source": [
    "df = df.withColumn('zipcode', regexp_extract(col('request_address'), r'\\d+$', 0))"
   ]
  },
  {
   "cell_type": "code",
   "execution_count": 27,
   "id": "0f7019d9",
   "metadata": {},
   "outputs": [],
   "source": [
    "df = (\n",
    "    df.withColumn('case_age', datediff(current_timestamp(), 'case_opened_date'))\n",
    "    .withColumn('days_to_closed', datediff('case_closed_date', 'case_opened_date'))\n",
    "    .withColumn('case_lifetime', when(col('case_closed'), col('days_to_closed')).otherwise(col('case_age')))\n",
    "    .drop('case_age', 'days_to_closed')\n",
    ")"
   ]
  },
  {
   "cell_type": "code",
   "execution_count": 28,
   "id": "f8c7a7f7",
   "metadata": {},
   "outputs": [
    {
     "data": {
      "text/plain": [
       "['case_id',\n",
       " 'case_opened_date',\n",
       " 'case_closed_date',\n",
       " 'case_due_date',\n",
       " 'case_late',\n",
       " 'num_days_late',\n",
       " 'case_closed',\n",
       " 'dept_division',\n",
       " 'service_request_type',\n",
       " 'SLA_days',\n",
       " 'case_status',\n",
       " 'source_id',\n",
       " 'request_address',\n",
       " 'council_district',\n",
       " 'zipcode',\n",
       " 'case_lifetime']"
      ]
     },
     "execution_count": 28,
     "metadata": {},
     "output_type": "execute_result"
    }
   ],
   "source": [
    "df.columns"
   ]
  },
  {
   "cell_type": "code",
   "execution_count": 29,
   "id": "6f60d8ab",
   "metadata": {},
   "outputs": [
    {
     "name": "stdout",
     "output_type": "stream",
     "text": [
      "22/10/24 13:26:17 WARN TaskSetManager: Stage 2 contains a task of very large size (18865 KiB). The maximum recommended task size is 1000 KiB.\n"
     ]
    },
    {
     "name": "stderr",
     "output_type": "stream",
     "text": [
      "[Stage 2:>                                                          (0 + 8) / 8]\r"
     ]
    },
    {
     "name": "stdout",
     "output_type": "stream",
     "text": [
      "+-----------+-------------+------------------+\n",
      "|case_closed|case_lifetime|     num_days_late|\n",
      "+-----------+-------------+------------------+\n",
      "|      false|         2122|       348.6458333|\n",
      "|      false|         2122|       348.6458333|\n",
      "|      false|         2121|348.52356480000003|\n",
      "|      false|         2120|347.58256939999995|\n",
      "|      false|         2118|       345.3894213|\n",
      "+-----------+-------------+------------------+\n",
      "only showing top 5 rows\n",
      "\n"
     ]
    },
    {
     "name": "stderr",
     "output_type": "stream",
     "text": [
      "\r",
      "                                                                                \r"
     ]
    }
   ],
   "source": [
    "(\n",
    "    df.select('case_closed', 'case_lifetime', 'num_days_late')\n",
    "    .filter('! case_closed').sort(desc('num_days_late'))\n",
    "    .where('num_days_late != \"nan\"')\n",
    ").show(5)\n"
   ]
  },
  {
   "cell_type": "code",
   "execution_count": 30,
   "id": "4231c8be",
   "metadata": {},
   "outputs": [
    {
     "name": "stdout",
     "output_type": "stream",
     "text": [
      "22/10/24 13:27:46 WARN TaskSetManager: Stage 3 contains a task of very large size (18865 KiB). The maximum recommended task size is 1000 KiB.\n"
     ]
    },
    {
     "name": "stderr",
     "output_type": "stream",
     "text": [
      "\r",
      "[Stage 3:>                                                          (0 + 8) / 8]\r"
     ]
    },
    {
     "name": "stdout",
     "output_type": "stream",
     "text": [
      "+-----------+-------------+------------------+\n",
      "|case_closed|case_lifetime|     num_days_late|\n",
      "+-----------+-------------+------------------+\n",
      "|      false|         2122|       348.6458333|\n",
      "|      false|         2122|       348.6458333|\n",
      "|      false|         2121|348.52356480000003|\n",
      "|      false|         2120|347.58256939999995|\n",
      "|      false|         2118|       345.3894213|\n",
      "+-----------+-------------+------------------+\n",
      "only showing top 5 rows\n",
      "\n"
     ]
    },
    {
     "name": "stderr",
     "output_type": "stream",
     "text": [
      "\r",
      "[Stage 3:===================================================>       (7 + 1) / 8]\r",
      "\r",
      "                                                                                \r"
     ]
    }
   ],
   "source": [
    "(\n",
    "    df.select('case_closed', 'case_lifetime', 'num_days_late')\n",
    "    .filter('! case_closed').sort(desc('num_days_late'))\n",
    "    .where('num_days_late != \"nan\"')\n",
    ").show(5)"
   ]
  },
  {
   "cell_type": "code",
   "execution_count": 31,
   "id": "cc4a46ae",
   "metadata": {},
   "outputs": [
    {
     "name": "stdout",
     "output_type": "stream",
     "text": [
      "22/10/24 13:28:16 WARN TaskSetManager: Stage 4 contains a task of very large size (18865 KiB). The maximum recommended task size is 1000 KiB.\n"
     ]
    },
    {
     "name": "stderr",
     "output_type": "stream",
     "text": [
      "\r",
      "[Stage 4:>                                                          (0 + 8) / 8]\r"
     ]
    },
    {
     "name": "stdout",
     "output_type": "stream",
     "text": [
      "+--------------------+\n",
      "|service_request_type|\n",
      "+--------------------+\n",
      "|Minimum Housing-O...|\n",
      "|        Tree Removal|\n",
      "| Service Information|\n",
      "|    Sign Maintenance|\n",
      "|Park Building Mai...|\n",
      "|Brush Property Da...|\n",
      "|Vacant Lot-Privat...|\n",
      "|Graffiti: Private...|\n",
      "|Traffic Sign Graf...|\n",
      "|License Renewal I...|\n",
      "|Guardrail- New Re...|\n",
      "|Markings Installa...|\n",
      "|   Sewer Line Broken|\n",
      "|Zoning: Multi-Fam...|\n",
      "|Engineering Inves...|\n",
      "|    Zoning: Setbacks|\n",
      "|  Traffic Sign Faded|\n",
      "|     Permits, Fences|\n",
      "|Certificates of O...|\n",
      "|  Dead Animal - Misc|\n",
      "+--------------------+\n",
      "only showing top 20 rows\n",
      "\n"
     ]
    },
    {
     "name": "stderr",
     "output_type": "stream",
     "text": [
      "\r",
      "                                                                                \r"
     ]
    }
   ],
   "source": [
    "df.select('service_request_type').distinct().show()"
   ]
  },
  {
   "cell_type": "code",
   "execution_count": 32,
   "id": "89c6bf00",
   "metadata": {},
   "outputs": [
    {
     "name": "stdout",
     "output_type": "stream",
     "text": [
      "22/10/24 13:28:48 WARN TaskSetManager: Stage 7 contains a task of very large size (18865 KiB). The maximum recommended task size is 1000 KiB.\n"
     ]
    },
    {
     "name": "stderr",
     "output_type": "stream",
     "text": [
      "                                                                                \r"
     ]
    },
    {
     "data": {
      "text/plain": [
       "26760"
      ]
     },
     "execution_count": 32,
     "metadata": {},
     "output_type": "execute_result"
    }
   ],
   "source": [
    "df.filter(expr('service_request_type == \"Stray Animal\"')).count()"
   ]
  },
  {
   "cell_type": "code",
   "execution_count": 33,
   "id": "14a5dfed",
   "metadata": {},
   "outputs": [
    {
     "name": "stdout",
     "output_type": "stream",
     "text": [
      "22/10/24 13:29:55 WARN TaskSetManager: Stage 10 contains a task of very large size (18865 KiB). The maximum recommended task size is 1000 KiB.\n"
     ]
    },
    {
     "name": "stderr",
     "output_type": "stream",
     "text": [
      "                                                                                \r"
     ]
    },
    {
     "data": {
      "text/plain": [
       "113902"
      ]
     },
     "execution_count": 33,
     "metadata": {},
     "output_type": "execute_result"
    }
   ],
   "source": [
    "(\n",
    "    df.filter(df.dept_division == 'Field Operations')\n",
    "    .filter(df.service_request_type != 'Officer Standby')\n",
    ").count()"
   ]
  },
  {
   "cell_type": "code",
   "execution_count": 34,
   "id": "4cc442d0",
   "metadata": {},
   "outputs": [
    {
     "data": {
      "text/plain": [
       "[('case_id', 'bigint'),\n",
       " ('case_opened_date', 'timestamp'),\n",
       " ('case_closed_date', 'timestamp'),\n",
       " ('case_due_date', 'timestamp'),\n",
       " ('case_late', 'boolean'),\n",
       " ('num_days_late', 'double'),\n",
       " ('case_closed', 'boolean'),\n",
       " ('dept_division', 'string'),\n",
       " ('service_request_type', 'string'),\n",
       " ('SLA_days', 'double'),\n",
       " ('case_status', 'string'),\n",
       " ('source_id', 'string'),\n",
       " ('request_address', 'string'),\n",
       " ('council_district', 'string'),\n",
       " ('zipcode', 'string'),\n",
       " ('case_lifetime', 'int')]"
      ]
     },
     "execution_count": 34,
     "metadata": {},
     "output_type": "execute_result"
    }
   ],
   "source": [
    "df.dtypes"
   ]
  },
  {
   "cell_type": "code",
   "execution_count": 35,
   "id": "4a281d82",
   "metadata": {},
   "outputs": [
    {
     "name": "stdout",
     "output_type": "stream",
     "text": [
      "22/10/24 13:30:25 WARN TaskSetManager: Stage 13 contains a task of very large size (18865 KiB). The maximum recommended task size is 1000 KiB.\n"
     ]
    },
    {
     "name": "stderr",
     "output_type": "stream",
     "text": [
      "\r",
      "[Stage 13:>                                                         (0 + 1) / 1]\r"
     ]
    },
    {
     "name": "stdout",
     "output_type": "stream",
     "text": [
      "22/10/24 13:30:29 WARN PythonRunner: Detected deadlock while completing task 0.0 in stage 13 (TID 59): Attempting to kill Python Worker\n",
      "+-------------------+\n",
      "|   case_closed_date|\n",
      "+-------------------+\n",
      "|2018-01-01 12:29:00|\n",
      "|2018-01-03 08:11:00|\n",
      "|2018-01-02 07:57:00|\n",
      "|2018-01-02 08:13:00|\n",
      "|2018-01-01 13:29:00|\n",
      "+-------------------+\n",
      "only showing top 5 rows\n",
      "\n"
     ]
    },
    {
     "name": "stderr",
     "output_type": "stream",
     "text": [
      "\r",
      "                                                                                \r"
     ]
    }
   ],
   "source": [
    "df.select('case_closed_date').show(5)"
   ]
  },
  {
   "cell_type": "code",
   "execution_count": 36,
   "id": "5c367e99",
   "metadata": {},
   "outputs": [],
   "source": [
    "df = df.withColumn('case_closed_year', year('case_closed_date'))"
   ]
  },
  {
   "cell_type": "code",
   "execution_count": 37,
   "id": "2e8c9a06",
   "metadata": {},
   "outputs": [
    {
     "name": "stdout",
     "output_type": "stream",
     "text": [
      "22/10/24 13:31:29 WARN TaskSetManager: Stage 14 contains a task of very large size (18865 KiB). The maximum recommended task size is 1000 KiB.\n"
     ]
    },
    {
     "name": "stderr",
     "output_type": "stream",
     "text": [
      "\r",
      "[Stage 14:>                                                         (0 + 1) / 1]\r"
     ]
    },
    {
     "name": "stdout",
     "output_type": "stream",
     "text": [
      "22/10/24 13:31:33 WARN PythonRunner: Detected deadlock while completing task 0.0 in stage 14 (TID 60): Attempting to kill Python Worker\n",
      "+-------------------+----------------+\n",
      "|   case_closed_date|case_closed_year|\n",
      "+-------------------+----------------+\n",
      "|2018-01-01 12:29:00|            2018|\n",
      "|2018-01-03 08:11:00|            2018|\n",
      "|2018-01-02 07:57:00|            2018|\n",
      "|2018-01-02 08:13:00|            2018|\n",
      "|2018-01-01 13:29:00|            2018|\n",
      "+-------------------+----------------+\n",
      "only showing top 5 rows\n",
      "\n"
     ]
    },
    {
     "name": "stderr",
     "output_type": "stream",
     "text": [
      "\r",
      "                                                                                \r"
     ]
    }
   ],
   "source": [
    "df.select('case_closed_date', 'case_closed_year').show(5)"
   ]
  },
  {
   "cell_type": "code",
   "execution_count": 38,
   "id": "002bf51c",
   "metadata": {},
   "outputs": [
    {
     "data": {
      "text/plain": [
       "['case_id',\n",
       " 'case_opened_date',\n",
       " 'case_closed_date',\n",
       " 'case_due_date',\n",
       " 'case_late',\n",
       " 'num_days_late',\n",
       " 'case_closed',\n",
       " 'dept_division',\n",
       " 'service_request_type',\n",
       " 'SLA_days',\n",
       " 'case_status',\n",
       " 'source_id',\n",
       " 'request_address',\n",
       " 'council_district',\n",
       " 'zipcode',\n",
       " 'case_lifetime',\n",
       " 'case_closed_year']"
      ]
     },
     "execution_count": 38,
     "metadata": {},
     "output_type": "execute_result"
    }
   ],
   "source": [
    "df.columns"
   ]
  },
  {
   "cell_type": "code",
   "execution_count": 39,
   "id": "c841bfe5",
   "metadata": {},
   "outputs": [
    {
     "data": {
      "text/plain": [
       "['index', 'source_id', 'source_username']"
      ]
     },
     "execution_count": 39,
     "metadata": {},
     "output_type": "execute_result"
    }
   ],
   "source": [
    "source.columns"
   ]
  },
  {
   "cell_type": "code",
   "execution_count": 40,
   "id": "613b9dcf",
   "metadata": {},
   "outputs": [
    {
     "data": {
      "text/plain": [
       "['dept_division', 'dept_name', 'standardized_dept_name', 'dept_subject_to_SLA']"
      ]
     },
     "execution_count": 40,
     "metadata": {},
     "output_type": "execute_result"
    }
   ],
   "source": [
    "dept.columns"
   ]
  },
  {
   "cell_type": "code",
   "execution_count": 41,
   "id": "2d938d6c",
   "metadata": {},
   "outputs": [],
   "source": [
    "df = df.join(dept, 'dept_division', 'left').join(source, 'source_id', 'left')"
   ]
  },
  {
   "cell_type": "code",
   "execution_count": 42,
   "id": "bca5ae5e",
   "metadata": {},
   "outputs": [
    {
     "data": {
      "text/plain": [
       "['source_id',\n",
       " 'dept_division',\n",
       " 'case_id',\n",
       " 'case_opened_date',\n",
       " 'case_closed_date',\n",
       " 'case_due_date',\n",
       " 'case_late',\n",
       " 'num_days_late',\n",
       " 'case_closed',\n",
       " 'service_request_type',\n",
       " 'SLA_days',\n",
       " 'case_status',\n",
       " 'request_address',\n",
       " 'council_district',\n",
       " 'zipcode',\n",
       " 'case_lifetime',\n",
       " 'case_closed_year',\n",
       " 'dept_name',\n",
       " 'standardized_dept_name',\n",
       " 'dept_subject_to_SLA',\n",
       " 'index',\n",
       " 'source_username']"
      ]
     },
     "execution_count": 42,
     "metadata": {},
     "output_type": "execute_result"
    }
   ],
   "source": [
    "df.columns"
   ]
  },
  {
   "cell_type": "code",
   "execution_count": 43,
   "id": "df367ce5",
   "metadata": {},
   "outputs": [
    {
     "name": "stdout",
     "output_type": "stream",
     "text": [
      "22/10/24 13:33:13 WARN TaskSetManager: Stage 15 contains a task of very large size (18865 KiB). The maximum recommended task size is 1000 KiB.\n"
     ]
    },
    {
     "name": "stderr",
     "output_type": "stream",
     "text": [
      "                                                                                \r"
     ]
    },
    {
     "data": {
      "text/plain": [
       "0"
      ]
     },
     "execution_count": 43,
     "metadata": {},
     "output_type": "execute_result"
    }
   ],
   "source": [
    "df.filter(expr('index is null')).count()"
   ]
  },
  {
   "cell_type": "code",
   "execution_count": 47,
   "id": "774bacbc",
   "metadata": {},
   "outputs": [
    {
     "name": "stdout",
     "output_type": "stream",
     "text": [
      "22/10/24 13:34:33 WARN TaskSetManager: Stage 39 contains a task of very large size (18865 KiB). The maximum recommended task size is 1000 KiB.\n"
     ]
    },
    {
     "name": "stderr",
     "output_type": "stream",
     "text": [
      "                                                                                \r"
     ]
    },
    {
     "name": "stdout",
     "output_type": "stream",
     "text": [
      "+--------------------+-----+\n",
      "|service_request_type|count|\n",
      "+--------------------+-----+\n",
      "|           No Pickup|89210|\n",
      "|Overgrown Yard/Trash|66403|\n",
      "|        Bandit Signs|32968|\n",
      "|        Damaged Cart|31163|\n",
      "|Front Or Side Yar...|28920|\n",
      "|        Stray Animal|27361|\n",
      "|Aggressive Animal...|25492|\n",
      "|Cart Exchange Req...|22608|\n",
      "|Junk Vehicle On P...|21649|\n",
      "|     Pot Hole Repair|20827|\n",
      "+--------------------+-----+\n",
      "only showing top 10 rows\n",
      "\n"
     ]
    }
   ],
   "source": [
    "(df.groupby('service_request_type').count().sort(desc('count'))).show(10)"
   ]
  },
  {
   "cell_type": "code",
   "execution_count": 48,
   "id": "74472f23",
   "metadata": {},
   "outputs": [
    {
     "name": "stdout",
     "output_type": "stream",
     "text": [
      "22/10/24 13:36:13 WARN TaskSetManager: Stage 51 contains a task of very large size (18865 KiB). The maximum recommended task size is 1000 KiB.\n"
     ]
    },
    {
     "name": "stderr",
     "output_type": "stream",
     "text": [
      "[Stage 59:>                                                         (0 + 4) / 4]\r"
     ]
    },
    {
     "name": "stdout",
     "output_type": "stream",
     "text": [
      "+--------------------------------------+--------------+\n",
      "|service_request_type                  |mean_days_late|\n",
      "+--------------------------------------+--------------+\n",
      "|Zoning: Junk Yards                    |175.96        |\n",
      "|Labeling for Used Mattress            |162.43        |\n",
      "|Record Keeping of Used Mattresses     |154.0         |\n",
      "|Signage Requied for Sale of Used Mattr|151.64        |\n",
      "|Storage of Used Mattress              |142.11        |\n",
      "|Zoning: Recycle Yard                  |135.93        |\n",
      "|Donation Container Enforcement        |131.76        |\n",
      "|License Requied Used Mattress Sales   |128.8         |\n",
      "|Traffic Signal Graffiti               |101.8         |\n",
      "|Complaint                             |72.87         |\n",
      "+--------------------------------------+--------------+\n",
      "only showing top 10 rows\n",
      "\n"
     ]
    },
    {
     "name": "stderr",
     "output_type": "stream",
     "text": [
      "\r",
      "                                                                                \r"
     ]
    }
   ],
   "source": [
    "(\n",
    "    df.groupby('service_request_type')\n",
    "    .agg(round(mean('num_days_late'), 2).alias('mean_days_late'))\n",
    "    .sort(desc('mean_days_late'))\n",
    "    .na.drop()\n",
    ").show(10, truncate=False)"
   ]
  },
  {
   "cell_type": "code",
   "execution_count": 51,
   "id": "3088c99a",
   "metadata": {},
   "outputs": [
    {
     "name": "stdout",
     "output_type": "stream",
     "text": [
      "22/10/24 13:39:47 WARN TaskSetManager: Stage 63 contains a task of very large size (18865 KiB). The maximum recommended task size is 1000 KiB.\n"
     ]
    },
    {
     "name": "stderr",
     "output_type": "stream",
     "text": [
      "[Stage 71:>                                                         (0 + 5) / 5]\r"
     ]
    },
    {
     "name": "stdout",
     "output_type": "stream",
     "text": [
      "+--------------------------------------+------------------+\n",
      "|service_request_type                  |test              |\n",
      "+--------------------------------------+------------------+\n",
      "|Zoning: Junk Yards                    |175.95636210420952|\n",
      "|Labeling for Used Mattress            |162.43032902285717|\n",
      "|Record Keeping of Used Mattresses     |153.9972403942857 |\n",
      "|Signage Requied for Sale of Used Mattr|151.63868055333333|\n",
      "|Storage of Used Mattress              |142.112556415     |\n",
      "|Zoning: Recycle Yard                  |135.928516124798  |\n",
      "|Donation Container Enforcement        |131.75610506358706|\n",
      "|License Requied Used Mattress Sales   |128.79828704142858|\n",
      "|Complaint                             |72.8705023031169  |\n",
      "|Vendors                               |66.548098985078   |\n",
      "+--------------------------------------+------------------+\n",
      "only showing top 10 rows\n",
      "\n"
     ]
    },
    {
     "name": "stderr",
     "output_type": "stream",
     "text": [
      "\r",
      "                                                                                \r"
     ]
    }
   ],
   "source": [
    "(\n",
    "    df.groupby('service_request_type').avg().sort(desc('avg(num_days_late)')).na.drop()\n",
    "    .select('service_request_type', col('avg(num_days_late)').alias('test')).show(10, truncate=False)\n",
    ")"
   ]
  },
  {
   "cell_type": "code",
   "execution_count": 53,
   "id": "ac167cf6",
   "metadata": {},
   "outputs": [
    {
     "name": "stdout",
     "output_type": "stream",
     "text": [
      "22/10/24 13:40:43 WARN TaskSetManager: Stage 75 contains a task of very large size (18865 KiB). The maximum recommended task size is 1000 KiB.\n"
     ]
    },
    {
     "name": "stderr",
     "output_type": "stream",
     "text": [
      "                                                                                \r"
     ]
    },
    {
     "name": "stdout",
     "output_type": "stream",
     "text": [
      "+--------------------+-------------------+\n",
      "|           dept_name| avg(num_days_late)|\n",
      "+--------------------+-------------------+\n",
      "|Animal Care Services|-226.51783940550334|\n",
      "|                null|   135.928516124798|\n",
      "|Solid Waste Manag...|-2.2000575136721796|\n",
      "|Development Services|  13.43372455586971|\n",
      "|Trans & Cap Impro...|-20.612837354052626|\n",
      "|    Customer Service|   59.7370914963008|\n",
      "|        Metro Health| -4.911766979607001|\n",
      "|Parks and Recreation| -5.251521960055137|\n",
      "|Code Enforcement ...| -38.70133068329578|\n",
      "|        City Council|                NaN|\n",
      "+--------------------+-------------------+\n",
      "\n"
     ]
    }
   ],
   "source": [
    "df.groupby('dept_name').mean('num_days_late').show()"
   ]
  },
  {
   "cell_type": "code",
   "execution_count": 54,
   "id": "e25a908c",
   "metadata": {},
   "outputs": [
    {
     "name": "stdout",
     "output_type": "stream",
     "text": [
      "22/10/24 13:41:05 WARN TaskSetManager: Stage 87 contains a task of very large size (18865 KiB). The maximum recommended task size is 1000 KiB.\n"
     ]
    },
    {
     "name": "stderr",
     "output_type": "stream",
     "text": [
      "                                                                                \r"
     ]
    },
    {
     "data": {
      "text/plain": [
       "10"
      ]
     },
     "execution_count": 54,
     "metadata": {},
     "output_type": "execute_result"
    }
   ],
   "source": [
    "df.select('dept_name').distinct().count()"
   ]
  },
  {
   "cell_type": "code",
   "execution_count": 55,
   "id": "032c093b",
   "metadata": {},
   "outputs": [
    {
     "name": "stdout",
     "output_type": "stream",
     "text": [
      "22/10/24 13:41:50 WARN TaskSetManager: Stage 100 contains a task of very large size (18865 KiB). The maximum recommended task size is 1000 KiB.\n"
     ]
    },
    {
     "name": "stderr",
     "output_type": "stream",
     "text": [
      "[Stage 108:>                                                        (0 + 4) / 4]\r"
     ]
    },
    {
     "name": "stdout",
     "output_type": "stream",
     "text": [
      "+--------------------+--------------------+--------------------+\n",
      "|           dept_name|service_request_type|  avg(num_days_late)|\n",
      "+--------------------+--------------------+--------------------+\n",
      "|Solid Waste Manag...|1st Call Bagged L...|  -3.868991989858193|\n",
      "|Solid Waste Manag...|2nd Call Bagged L...|   -4.21210716234353|\n",
      "|Solid Waste Manag...|3rd Call Bagged L...|        -3.152896412|\n",
      "|Trans & Cap Impro...|ADA Infrastructur...| -11.841508136999998|\n",
      "|Code Enforcement ...|    ADA Obstructions|        -13.22349537|\n",
      "|Code Enforcement ...|Absentee Property...| -14.231748829519532|\n",
      "|Trans & Cap Impro...|Accident Problem ...| -22.971030459931214|\n",
      "|Solid Waste Manag...|Additional Cart R...|  -5.063509766847671|\n",
      "|Solid Waste Manag...|Additional Garbag...|  -2.920198210360159|\n",
      "|Solid Waste Manag...|Additional Organi...|  -5.997874052909091|\n",
      "|Animal Care Services|Aggressive Animal...|  16.696368811892242|\n",
      "|Animal Care Services|Aggressive Animal...|  2.6450338831632556|\n",
      "|Trans & Cap Impro...|  All-Way Stop Study| -35.852216974466664|\n",
      "|Code Enforcement ...|Alley Address Req...| -2.6345046288000002|\n",
      "|Solid Waste Manag...|      Alley Problems|   4.549660560465517|\n",
      "|Code Enforcement ...|Alley-Way Mainten...|  -46.19059095706959|\n",
      "|Parks and Recreation|Amenity Park Impr...|    9.64126176872269|\n",
      "|Parks and Recreation|Amenity Park Impr...|        -5.411793981|\n",
      "|Animal Care Services|Animal Bite(Criti...|0.019096834813110194|\n",
      "|Animal Care Services|Animal Bite(Non-C...| -2.5056675479734487|\n",
      "+--------------------+--------------------+--------------------+\n",
      "only showing top 20 rows\n",
      "\n"
     ]
    },
    {
     "name": "stderr",
     "output_type": "stream",
     "text": [
      "\r",
      "                                                                                \r"
     ]
    }
   ],
   "source": [
    "df.groupby('dept_name', 'service_request_type').mean('num_days_late').sort('service_request_type').show()"
   ]
  },
  {
   "cell_type": "code",
   "execution_count": null,
   "id": "2d104a08",
   "metadata": {},
   "outputs": [],
   "source": []
  }
 ],
 "metadata": {
  "kernelspec": {
   "display_name": "Python 3 (ipykernel)",
   "language": "python",
   "name": "python3"
  },
  "language_info": {
   "codemirror_mode": {
    "name": "ipython",
    "version": 3
   },
   "file_extension": ".py",
   "mimetype": "text/x-python",
   "name": "python",
   "nbconvert_exporter": "python",
   "pygments_lexer": "ipython3",
   "version": "3.9.12"
  }
 },
 "nbformat": 4,
 "nbformat_minor": 5
}
