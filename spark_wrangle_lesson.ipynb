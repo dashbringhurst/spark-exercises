{
 "cells": [
  {
   "cell_type": "code",
   "execution_count": 5,
   "id": "379575c8",
   "metadata": {},
   "outputs": [
    {
     "name": "stderr",
     "output_type": "stream",
     "text": [
      "Setting default log level to \"WARN\".\n",
      "To adjust logging level use sc.setLogLevel(newLevel). For SparkR, use setLogLevel(newLevel).\n"
     ]
    },
    {
     "name": "stdout",
     "output_type": "stream",
     "text": [
      "22/10/21 14:54:55 WARN NativeCodeLoader: Unable to load native-hadoop library for your platform... using builtin-java classes where applicable\n",
      "22/10/21 14:54:56 WARN Utils: Service 'SparkUI' could not bind on port 4040. Attempting port 4041.\n",
      "22/10/21 14:54:56 WARN Utils: Service 'SparkUI' could not bind on port 4041. Attempting port 4042.\n",
      "22/10/21 14:54:56 WARN Utils: Service 'SparkUI' could not bind on port 4042. Attempting port 4043.\n",
      "22/10/21 14:54:56 WARN Utils: Service 'SparkUI' could not bind on port 4043. Attempting port 4044.\n"
     ]
    }
   ],
   "source": [
    "import pandas as pd\n",
    "from pyspark.sql import SparkSession\n",
    "from pyspark.sql.functions import *\n",
    "import env\n",
    "\n",
    "import pyspark\n",
    "\n",
    "spark = pyspark.sql.SparkSession.builder.getOrCreate()"
   ]
  },
  {
   "cell_type": "code",
   "execution_count": 6,
   "id": "05df17ec",
   "metadata": {},
   "outputs": [],
   "source": [
    "def get_db_url(database, host=env.host, user=env.user, password=env.password):\n",
    "    return f'mysql+pymysql://{user}:{password}@{host}/{database}'"
   ]
  },
  {
   "cell_type": "code",
   "execution_count": 7,
   "id": "00143767",
   "metadata": {},
   "outputs": [
    {
     "name": "stderr",
     "output_type": "stream",
     "text": [
      "[Stage 0:>                                                          (0 + 1) / 1]\r"
     ]
    },
    {
     "name": "stdout",
     "output_type": "stream",
     "text": [
      "+-----+---------+----------------+\n",
      "|index|source_id| source_username|\n",
      "+-----+---------+----------------+\n",
      "|    0|   100137|Merlene Blodgett|\n",
      "|    1|   103582|     Carmen Cura|\n",
      "|    2|   106463| Richard Sanchez|\n",
      "|    3|   119403|  Betty De Hoyos|\n",
      "+-----+---------+----------------+\n",
      "only showing top 4 rows\n",
      "\n"
     ]
    },
    {
     "name": "stderr",
     "output_type": "stream",
     "text": [
      "\r",
      "                                                                                \r"
     ]
    }
   ],
   "source": [
    "query = '''SELECT * from source'''\n",
    "url = get_db_url('311_data')\n",
    "source_df = pd.read_sql(query, url)\n",
    "source_df = spark.createDataFrame(source_df)\n",
    "source_df.show(4)"
   ]
  },
  {
   "cell_type": "code",
   "execution_count": 8,
   "id": "f9b77773",
   "metadata": {},
   "outputs": [
    {
     "data": {
      "text/plain": [
       "StructType([StructField('index', LongType(), True), StructField('source_id', StringType(), True), StructField('source_username', StringType(), True)])"
      ]
     },
     "execution_count": 8,
     "metadata": {},
     "output_type": "execute_result"
    }
   ],
   "source": [
    "source_df.schema"
   ]
  },
  {
   "cell_type": "code",
   "execution_count": 9,
   "id": "1ab3ac57",
   "metadata": {},
   "outputs": [
    {
     "name": "stderr",
     "output_type": "stream",
     "text": [
      "                                                                                \r"
     ]
    }
   ],
   "source": [
    "from pydataset import data\n",
    "\n",
    "mpg = spark.createDataFrame(data('mpg'))\n",
    "\n",
    "mpg.write.json('data/mpg_json', mode='overwrite')"
   ]
  },
  {
   "cell_type": "code",
   "execution_count": 10,
   "id": "76789001",
   "metadata": {},
   "outputs": [],
   "source": [
    "(mpg.write.format('csv').mode('overwrite').option('header', 'true').save('data/mpg_csv'))"
   ]
  },
  {
   "cell_type": "code",
   "execution_count": 11,
   "id": "07626f5d",
   "metadata": {},
   "outputs": [
    {
     "data": {
      "text/plain": [
       "234"
      ]
     },
     "execution_count": 11,
     "metadata": {},
     "output_type": "execute_result"
    }
   ],
   "source": [
    "spark.read.json('data/mpg_json').count()"
   ]
  },
  {
   "cell_type": "code",
   "execution_count": 12,
   "id": "c7a2c3e5",
   "metadata": {},
   "outputs": [],
   "source": [
    "import os"
   ]
  },
  {
   "cell_type": "code",
   "execution_count": 13,
   "id": "74e87c4b",
   "metadata": {},
   "outputs": [
    {
     "data": {
      "text/plain": [
       "['part-00006-2bac09ac-58af-45dd-ab61-35d5732093d9-c000.json',\n",
       " '.part-00005-2bac09ac-58af-45dd-ab61-35d5732093d9-c000.json.crc',\n",
       " '.part-00006-2bac09ac-58af-45dd-ab61-35d5732093d9-c000.json.crc',\n",
       " 'part-00003-2bac09ac-58af-45dd-ab61-35d5732093d9-c000.json',\n",
       " '._SUCCESS.crc',\n",
       " 'part-00001-2bac09ac-58af-45dd-ab61-35d5732093d9-c000.json',\n",
       " '.part-00001-2bac09ac-58af-45dd-ab61-35d5732093d9-c000.json.crc',\n",
       " 'part-00004-2bac09ac-58af-45dd-ab61-35d5732093d9-c000.json',\n",
       " '.part-00002-2bac09ac-58af-45dd-ab61-35d5732093d9-c000.json.crc',\n",
       " '.part-00004-2bac09ac-58af-45dd-ab61-35d5732093d9-c000.json.crc',\n",
       " 'part-00005-2bac09ac-58af-45dd-ab61-35d5732093d9-c000.json',\n",
       " 'part-00000-2bac09ac-58af-45dd-ab61-35d5732093d9-c000.json',\n",
       " '.part-00007-2bac09ac-58af-45dd-ab61-35d5732093d9-c000.json.crc',\n",
       " '_SUCCESS',\n",
       " 'part-00002-2bac09ac-58af-45dd-ab61-35d5732093d9-c000.json',\n",
       " '.part-00000-2bac09ac-58af-45dd-ab61-35d5732093d9-c000.json.crc',\n",
       " '.part-00003-2bac09ac-58af-45dd-ab61-35d5732093d9-c000.json.crc',\n",
       " 'part-00007-2bac09ac-58af-45dd-ab61-35d5732093d9-c000.json']"
      ]
     },
     "execution_count": 13,
     "metadata": {},
     "output_type": "execute_result"
    }
   ],
   "source": [
    "json_files = os.listdir('data/mpg_json')\n",
    "json_files"
   ]
  },
  {
   "cell_type": "code",
   "execution_count": 14,
   "id": "8a89d00a",
   "metadata": {},
   "outputs": [
    {
     "data": {
      "text/plain": [
       "['part-00006-2bac09ac-58af-45dd-ab61-35d5732093d9-c000.json',\n",
       " 'part-00003-2bac09ac-58af-45dd-ab61-35d5732093d9-c000.json',\n",
       " 'part-00001-2bac09ac-58af-45dd-ab61-35d5732093d9-c000.json',\n",
       " 'part-00004-2bac09ac-58af-45dd-ab61-35d5732093d9-c000.json',\n",
       " 'part-00005-2bac09ac-58af-45dd-ab61-35d5732093d9-c000.json',\n",
       " 'part-00000-2bac09ac-58af-45dd-ab61-35d5732093d9-c000.json',\n",
       " '_SUCCESS',\n",
       " 'part-00002-2bac09ac-58af-45dd-ab61-35d5732093d9-c000.json',\n",
       " 'part-00007-2bac09ac-58af-45dd-ab61-35d5732093d9-c000.json']"
      ]
     },
     "execution_count": 14,
     "metadata": {},
     "output_type": "execute_result"
    }
   ],
   "source": [
    "json_files = [fn for fn in json_files if not fn.startswith('.')]\n",
    "json_files"
   ]
  },
  {
   "cell_type": "code",
   "execution_count": 15,
   "id": "f5c81f50",
   "metadata": {},
   "outputs": [
    {
     "data": {
      "text/plain": [
       "29"
      ]
     },
     "execution_count": 15,
     "metadata": {},
     "output_type": "execute_result"
    }
   ],
   "source": [
    "spark.read.json(f'data/mpg_json/{json_files[0]}').count()"
   ]
  },
  {
   "cell_type": "code",
   "execution_count": 16,
   "id": "ca866c52",
   "metadata": {},
   "outputs": [
    {
     "data": {
      "text/plain": [
       "242"
      ]
     },
     "execution_count": 16,
     "metadata": {},
     "output_type": "execute_result"
    }
   ],
   "source": [
    "spark.read.csv('data/mpg_csv').count()"
   ]
  },
  {
   "cell_type": "code",
   "execution_count": 17,
   "id": "695526f3",
   "metadata": {},
   "outputs": [],
   "source": [
    "(mpg.write.format('csv').mode('overwrite').option('header','True').save('data/mpg_csv'))"
   ]
  },
  {
   "cell_type": "code",
   "execution_count": 18,
   "id": "77a7aa92",
   "metadata": {},
   "outputs": [
    {
     "data": {
      "text/plain": [
       "['part-00003-67b94376-760b-44f7-830e-3d85c49ff9ce-c000.csv',\n",
       " 'part-00002-67b94376-760b-44f7-830e-3d85c49ff9ce-c000.csv',\n",
       " 'part-00001-67b94376-760b-44f7-830e-3d85c49ff9ce-c000.csv',\n",
       " 'part-00000-67b94376-760b-44f7-830e-3d85c49ff9ce-c000.csv',\n",
       " 'part-00007-67b94376-760b-44f7-830e-3d85c49ff9ce-c000.csv',\n",
       " 'part-00006-67b94376-760b-44f7-830e-3d85c49ff9ce-c000.csv',\n",
       " 'part-00005-67b94376-760b-44f7-830e-3d85c49ff9ce-c000.csv',\n",
       " '_SUCCESS',\n",
       " 'part-00004-67b94376-760b-44f7-830e-3d85c49ff9ce-c000.csv']"
      ]
     },
     "execution_count": 18,
     "metadata": {},
     "output_type": "execute_result"
    }
   ],
   "source": [
    "csv_files = os.listdir('data/mpg_csv')\n",
    "csv_files = [fn for fn in csv_files if not fn.startswith('.')]\n",
    "csv_files"
   ]
  },
  {
   "cell_type": "code",
   "execution_count": 19,
   "id": "7d2d13ee",
   "metadata": {},
   "outputs": [
    {
     "data": {
      "text/plain": [
       "234"
      ]
     },
     "execution_count": 19,
     "metadata": {},
     "output_type": "execute_result"
    }
   ],
   "source": [
    "mpg.count()"
   ]
  },
  {
   "cell_type": "code",
   "execution_count": 20,
   "id": "3f300e6b",
   "metadata": {},
   "outputs": [
    {
     "data": {
      "text/plain": [
       "9"
      ]
     },
     "execution_count": 20,
     "metadata": {},
     "output_type": "execute_result"
    }
   ],
   "source": [
    "len(csv_files)"
   ]
  },
  {
   "cell_type": "code",
   "execution_count": 21,
   "id": "cee20961",
   "metadata": {},
   "outputs": [
    {
     "name": "stdout",
     "output_type": "stream",
     "text": [
      "+------------+---------------+-----+----+---+----------+---+---+---+---+----------+\n",
      "|         _c0|            _c1|  _c2| _c3|_c4|       _c5|_c6|_c7|_c8|_c9|      _c10|\n",
      "+------------+---------------+-----+----+---+----------+---+---+---+---+----------+\n",
      "|manufacturer|          model|displ|year|cyl|     trans|drv|cty|hwy| fl|     class|\n",
      "|        ford|f150 pickup 4wd|  4.6|2008|  8|  auto(l4)|  4| 13| 17|  r|    pickup|\n",
      "|        ford|f150 pickup 4wd|  5.4|1999|  8|  auto(l4)|  4| 11| 15|  r|    pickup|\n",
      "|        ford|f150 pickup 4wd|  5.4|2008|  8|  auto(l4)|  4| 13| 17|  r|    pickup|\n",
      "|        ford|        mustang|  3.8|1999|  6|manual(m5)|  r| 18| 26|  r|subcompact|\n",
      "+------------+---------------+-----+----+---+----------+---+---+---+---+----------+\n",
      "only showing top 5 rows\n",
      "\n"
     ]
    }
   ],
   "source": [
    "spark.read.csv(f'data/mpg_csv/{csv_files[0]}').show(5)"
   ]
  },
  {
   "cell_type": "code",
   "execution_count": 22,
   "id": "28b3cd00",
   "metadata": {},
   "outputs": [
    {
     "data": {
      "text/plain": [
       "234"
      ]
     },
     "execution_count": 22,
     "metadata": {},
     "output_type": "execute_result"
    }
   ],
   "source": [
    "(spark.read.format('csv').option('header', True).load('data/mpg_csv')).count()"
   ]
  },
  {
   "cell_type": "code",
   "execution_count": 23,
   "id": "7b59d4f1",
   "metadata": {},
   "outputs": [
    {
     "name": "stdout",
     "output_type": "stream",
     "text": [
      "+------------+-----------------+-----+----+---+----------+---+---+---+---+-------+\n",
      "|manufacturer|            model|displ|year|cyl|     trans|drv|cty|hwy| fl|  class|\n",
      "+------------+-----------------+-----+----+---+----------+---+---+---+---+-------+\n",
      "|      toyota|toyota tacoma 4wd|  3.4|1999|  6|manual(m5)|  4| 15| 17|  r| pickup|\n",
      "|      toyota|toyota tacoma 4wd|  3.4|1999|  6|  auto(l4)|  4| 15| 19|  r| pickup|\n",
      "|      toyota|toyota tacoma 4wd|  4.0|2008|  6|manual(m6)|  4| 15| 18|  r| pickup|\n",
      "|      toyota|toyota tacoma 4wd|  4.0|2008|  6|  auto(l5)|  4| 16| 20|  r| pickup|\n",
      "|  volkswagen|              gti|  2.0|1999|  4|manual(m5)|  f| 21| 29|  r|compact|\n",
      "+------------+-----------------+-----+----+---+----------+---+---+---+---+-------+\n",
      "only showing top 5 rows\n",
      "\n"
     ]
    }
   ],
   "source": [
    "(spark.read.format('csv').option('header', True).load('data/mpg_csv')).show(5)"
   ]
  },
  {
   "cell_type": "code",
   "execution_count": 24,
   "id": "d06fc33b",
   "metadata": {},
   "outputs": [],
   "source": [
    "url = get_db_url('311_data')\n",
    "query = 'select source_id, source_username from source'"
   ]
  },
  {
   "cell_type": "code",
   "execution_count": 25,
   "id": "b37c8bf8",
   "metadata": {},
   "outputs": [
    {
     "data": {
      "text/html": [
       "<div>\n",
       "<style scoped>\n",
       "    .dataframe tbody tr th:only-of-type {\n",
       "        vertical-align: middle;\n",
       "    }\n",
       "\n",
       "    .dataframe tbody tr th {\n",
       "        vertical-align: top;\n",
       "    }\n",
       "\n",
       "    .dataframe thead th {\n",
       "        text-align: right;\n",
       "    }\n",
       "</style>\n",
       "<table border=\"1\" class=\"dataframe\">\n",
       "  <thead>\n",
       "    <tr style=\"text-align: right;\">\n",
       "      <th></th>\n",
       "      <th>source_id</th>\n",
       "      <th>source_username</th>\n",
       "    </tr>\n",
       "  </thead>\n",
       "  <tbody>\n",
       "    <tr>\n",
       "      <th>0</th>\n",
       "      <td>100137</td>\n",
       "      <td>Merlene Blodgett</td>\n",
       "    </tr>\n",
       "    <tr>\n",
       "      <th>1</th>\n",
       "      <td>103582</td>\n",
       "      <td>Carmen Cura</td>\n",
       "    </tr>\n",
       "    <tr>\n",
       "      <th>2</th>\n",
       "      <td>106463</td>\n",
       "      <td>Richard Sanchez</td>\n",
       "    </tr>\n",
       "    <tr>\n",
       "      <th>3</th>\n",
       "      <td>119403</td>\n",
       "      <td>Betty De Hoyos</td>\n",
       "    </tr>\n",
       "    <tr>\n",
       "      <th>4</th>\n",
       "      <td>119555</td>\n",
       "      <td>Socorro Quiara</td>\n",
       "    </tr>\n",
       "  </tbody>\n",
       "</table>\n",
       "</div>"
      ],
      "text/plain": [
       "  source_id   source_username\n",
       "0    100137  Merlene Blodgett\n",
       "1    103582       Carmen Cura\n",
       "2    106463   Richard Sanchez\n",
       "3    119403    Betty De Hoyos\n",
       "4    119555    Socorro Quiara"
      ]
     },
     "execution_count": 25,
     "metadata": {},
     "output_type": "execute_result"
    }
   ],
   "source": [
    "pandas_df = pd.read_sql(query, url)\n",
    "pandas_df.head()"
   ]
  },
  {
   "cell_type": "code",
   "execution_count": 26,
   "id": "2c27d306",
   "metadata": {},
   "outputs": [
    {
     "data": {
      "text/plain": [
       "DataFrame[source_id: string, source_username: string]"
      ]
     },
     "execution_count": 26,
     "metadata": {},
     "output_type": "execute_result"
    }
   ],
   "source": [
    "sources = spark.createDataFrame(pandas_df)\n",
    "sources"
   ]
  },
  {
   "cell_type": "code",
   "execution_count": 27,
   "id": "f3f6dd1f",
   "metadata": {},
   "outputs": [
    {
     "name": "stdout",
     "output_type": "stream",
     "text": [
      "+---------+----------------+\n",
      "|source_id| source_username|\n",
      "+---------+----------------+\n",
      "|   100137|Merlene Blodgett|\n",
      "|   103582|     Carmen Cura|\n",
      "|   106463| Richard Sanchez|\n",
      "|   119403|  Betty De Hoyos|\n",
      "|   119555|  Socorro Quiara|\n",
      "+---------+----------------+\n",
      "only showing top 5 rows\n",
      "\n"
     ]
    }
   ],
   "source": [
    "sources.show(5)"
   ]
  },
  {
   "cell_type": "code",
   "execution_count": 28,
   "id": "aba7a38b",
   "metadata": {},
   "outputs": [
    {
     "data": {
      "text/plain": [
       "StructType([StructField('source_id', StringType(), True), StructField('source_username', StringType(), True)])"
      ]
     },
     "execution_count": 28,
     "metadata": {},
     "output_type": "execute_result"
    }
   ],
   "source": [
    "sources.schema"
   ]
  },
  {
   "cell_type": "code",
   "execution_count": 29,
   "id": "91f1682f",
   "metadata": {},
   "outputs": [],
   "source": [
    "from pyspark.sql.types import StructType, StructField, StringType"
   ]
  },
  {
   "cell_type": "code",
   "execution_count": 30,
   "id": "9e78e60a",
   "metadata": {},
   "outputs": [
    {
     "data": {
      "text/plain": [
       "StructType([StructField('source_id', StringType(), True), StructField('source_username', StringType(), True)])"
      ]
     },
     "execution_count": 30,
     "metadata": {},
     "output_type": "execute_result"
    }
   ],
   "source": [
    "schema = StructType(\n",
    "        [\n",
    "            StructField('source_id', StringType()),\n",
    "            StructField('source_username', StringType())\n",
    "        ])\n",
    "schema"
   ]
  },
  {
   "cell_type": "code",
   "execution_count": 31,
   "id": "0572b842",
   "metadata": {},
   "outputs": [
    {
     "data": {
      "text/plain": [
       "DataFrame[source_id: string, source_username: string]"
      ]
     },
     "execution_count": 31,
     "metadata": {},
     "output_type": "execute_result"
    }
   ],
   "source": [
    "spark.createDataFrame(pandas_df, schema=schema)"
   ]
  },
  {
   "cell_type": "code",
   "execution_count": 32,
   "id": "93d5a3b3",
   "metadata": {},
   "outputs": [
    {
     "data": {
      "text/plain": [
       "DataFrame[source_id: string, source_username: string]"
      ]
     },
     "execution_count": 32,
     "metadata": {},
     "output_type": "execute_result"
    }
   ],
   "source": [
    "spark.createDataFrame(pandas_df)"
   ]
  },
  {
   "cell_type": "code",
   "execution_count": 33,
   "id": "20b47c74",
   "metadata": {},
   "outputs": [],
   "source": [
    "query = 'select * from cases limit 100000'"
   ]
  },
  {
   "cell_type": "code",
   "execution_count": 34,
   "id": "4a7967f7",
   "metadata": {},
   "outputs": [],
   "source": [
    "pandas_df = pd.read_sql(query, url)"
   ]
  },
  {
   "cell_type": "code",
   "execution_count": 36,
   "id": "cd392319",
   "metadata": {},
   "outputs": [
    {
     "data": {
      "text/plain": [
       "DataFrame[case_id: bigint, case_opened_date: string, case_closed_date: string, SLA_due_date: string, case_late: string, num_days_late: double, case_closed: string, dept_division: string, service_request_type: string, SLA_days: double, case_status: string, source_id: string, request_address: string, council_district: bigint]"
      ]
     },
     "execution_count": 36,
     "metadata": {},
     "output_type": "execute_result"
    }
   ],
   "source": [
    "df = spark.createDataFrame(pandas_df)\n",
    "df"
   ]
  },
  {
   "cell_type": "code",
   "execution_count": 37,
   "id": "45541603",
   "metadata": {},
   "outputs": [
    {
     "name": "stdout",
     "output_type": "stream",
     "text": [
      "22/10/21 15:07:16 WARN TaskSetManager: Stage 28 contains a task of very large size (2205 KiB). The maximum recommended task size is 1000 KiB.\n",
      "-RECORD 0-----------------------------------------------------\n",
      " case_id              | 1014127332                            \n",
      " case_opened_date     | 1/1/18 0:42                           \n",
      " case_closed_date     | 1/1/18 12:29                          \n",
      " SLA_due_date         | 9/26/20 0:42                          \n",
      " case_late            | NO                                    \n",
      " num_days_late        | -998.5087616                          \n",
      " case_closed          | YES                                   \n",
      " dept_division        | Field Operations                      \n",
      " service_request_type | Stray Animal                          \n",
      " SLA_days             | 999.0                                 \n",
      " case_status          | Closed                                \n",
      " source_id            | svcCRMLS                              \n",
      " request_address      | 2315  EL PASO ST, San Antonio, 78207  \n",
      " council_district     | 5                                     \n",
      "-RECORD 1-----------------------------------------------------\n",
      " case_id              | 1014127333                            \n",
      " case_opened_date     | 1/1/18 0:46                           \n",
      " case_closed_date     | 1/3/18 8:11                           \n",
      " SLA_due_date         | 1/5/18 8:30                           \n",
      " case_late            | NO                                    \n",
      " num_days_late        | -2.012604167                          \n",
      " case_closed          | YES                                   \n",
      " dept_division        | Storm Water                           \n",
      " service_request_type | Removal Of Obstruction                \n",
      " SLA_days             | 4.322222222                           \n",
      " case_status          | Closed                                \n",
      " source_id            | svcCRMSS                              \n",
      " request_address      | 2215  GOLIAD RD, San Antonio, 78223   \n",
      " council_district     | 3                                     \n",
      "-RECORD 2-----------------------------------------------------\n",
      " case_id              | 1014127334                            \n",
      " case_opened_date     | 1/1/18 0:48                           \n",
      " case_closed_date     | 1/2/18 7:57                           \n",
      " SLA_due_date         | 1/5/18 8:30                           \n",
      " case_late            | NO                                    \n",
      " num_days_late        | -3.022337963                          \n",
      " case_closed          | YES                                   \n",
      " dept_division        | Storm Water                           \n",
      " service_request_type | Removal Of Obstruction                \n",
      " SLA_days             | 4.320729167                           \n",
      " case_status          | Closed                                \n",
      " source_id            | svcCRMSS                              \n",
      " request_address      | 102  PALFREY ST W, San Antonio, 78223 \n",
      " council_district     | 3                                     \n",
      "only showing top 3 rows\n",
      "\n"
     ]
    }
   ],
   "source": [
    "df.show(3, vertical=True, truncate=False)"
   ]
  },
  {
   "cell_type": "code",
   "execution_count": 38,
   "id": "976187e4",
   "metadata": {},
   "outputs": [
    {
     "name": "stdout",
     "output_type": "stream",
     "text": [
      "root\n",
      " |-- case_id: long (nullable = true)\n",
      " |-- case_opened_date: string (nullable = true)\n",
      " |-- case_closed_date: string (nullable = true)\n",
      " |-- SLA_due_date: string (nullable = true)\n",
      " |-- case_late: string (nullable = true)\n",
      " |-- num_days_late: double (nullable = true)\n",
      " |-- case_closed: string (nullable = true)\n",
      " |-- dept_division: string (nullable = true)\n",
      " |-- service_request_type: string (nullable = true)\n",
      " |-- SLA_days: double (nullable = true)\n",
      " |-- case_status: string (nullable = true)\n",
      " |-- source_id: string (nullable = true)\n",
      " |-- request_address: string (nullable = true)\n",
      " |-- council_district: long (nullable = true)\n",
      "\n"
     ]
    }
   ],
   "source": [
    "df.printSchema()"
   ]
  },
  {
   "cell_type": "code",
   "execution_count": 39,
   "id": "bcd0c480",
   "metadata": {},
   "outputs": [
    {
     "data": {
      "text/plain": [
       "[('case_id', 'bigint'),\n",
       " ('case_opened_date', 'string'),\n",
       " ('case_closed_date', 'string'),\n",
       " ('SLA_due_date', 'string'),\n",
       " ('case_late', 'string'),\n",
       " ('num_days_late', 'double'),\n",
       " ('case_closed', 'string'),\n",
       " ('dept_division', 'string'),\n",
       " ('service_request_type', 'string'),\n",
       " ('SLA_days', 'double'),\n",
       " ('case_status', 'string'),\n",
       " ('source_id', 'string'),\n",
       " ('request_address', 'string'),\n",
       " ('council_district', 'bigint')]"
      ]
     },
     "execution_count": 39,
     "metadata": {},
     "output_type": "execute_result"
    }
   ],
   "source": [
    "df.dtypes"
   ]
  },
  {
   "cell_type": "code",
   "execution_count": 40,
   "id": "277d4fa5",
   "metadata": {},
   "outputs": [
    {
     "data": {
      "text/plain": [
       "['case_id',\n",
       " 'case_opened_date',\n",
       " 'case_closed_date',\n",
       " 'SLA_due_date',\n",
       " 'case_late',\n",
       " 'num_days_late',\n",
       " 'case_closed',\n",
       " 'dept_division',\n",
       " 'service_request_type',\n",
       " 'SLA_days',\n",
       " 'case_status',\n",
       " 'source_id',\n",
       " 'request_address',\n",
       " 'council_district']"
      ]
     },
     "execution_count": 40,
     "metadata": {},
     "output_type": "execute_result"
    }
   ],
   "source": [
    "df.columns"
   ]
  },
  {
   "cell_type": "code",
   "execution_count": 41,
   "id": "08f5fd07",
   "metadata": {},
   "outputs": [
    {
     "data": {
      "text/plain": [
       "DataFrame[case_id: bigint, case_opened_date: string, case_closed_date: string, case_due_date: string, case_late: string, num_days_late: double, case_closed: string, dept_division: string, service_request_type: string, SLA_days: double, case_status: string, source_id: string, request_address: string, council_district: bigint]"
      ]
     },
     "execution_count": 41,
     "metadata": {},
     "output_type": "execute_result"
    }
   ],
   "source": [
    "df = df.withColumnRenamed('SLA_due_date', 'case_due_date')\n",
    "df"
   ]
  },
  {
   "cell_type": "code",
   "execution_count": 42,
   "id": "2a60b63f",
   "metadata": {},
   "outputs": [
    {
     "data": {
      "text/plain": [
       "['case_id',\n",
       " 'case_opened_date',\n",
       " 'case_closed_date',\n",
       " 'case_due_date',\n",
       " 'case_late',\n",
       " 'num_days_late',\n",
       " 'case_closed',\n",
       " 'dept_division',\n",
       " 'service_request_type',\n",
       " 'SLA_days',\n",
       " 'case_status',\n",
       " 'source_id',\n",
       " 'request_address',\n",
       " 'council_district']"
      ]
     },
     "execution_count": 42,
     "metadata": {},
     "output_type": "execute_result"
    }
   ],
   "source": [
    "df.columns"
   ]
  },
  {
   "cell_type": "code",
   "execution_count": 43,
   "id": "96d9d922",
   "metadata": {},
   "outputs": [
    {
     "name": "stdout",
     "output_type": "stream",
     "text": [
      "22/10/21 15:08:53 WARN TaskSetManager: Stage 29 contains a task of very large size (2205 KiB). The maximum recommended task size is 1000 KiB.\n"
     ]
    },
    {
     "name": "stderr",
     "output_type": "stream",
     "text": [
      "\r",
      "[Stage 29:>                                                         (0 + 1) / 1]\r"
     ]
    },
    {
     "name": "stdout",
     "output_type": "stream",
     "text": [
      "22/10/21 15:08:57 WARN PythonRunner: Detected deadlock while completing task 0.0 in stage 29 (TID 80): Attempting to kill Python Worker\n",
      "-RECORD 0----------------------------------------------------\n",
      " case_id              | 1014127332                           \n",
      " case_opened_date     | 1/1/18 0:42                          \n",
      " case_closed_date     | 1/1/18 12:29                         \n",
      " case_due_date        | 9/26/20 0:42                         \n",
      " case_late            | NO                                   \n",
      " num_days_late        | -998.5087616                         \n",
      " case_closed          | YES                                  \n",
      " dept_division        | Field Operations                     \n",
      " service_request_type | Stray Animal                         \n",
      " SLA_days             | 999.0                                \n",
      " case_status          | Closed                               \n",
      " source_id            | svcCRMLS                             \n",
      " request_address      | 2315  EL PASO ST, San Antonio, 78207 \n",
      " council_district     | 5                                    \n",
      "-RECORD 1----------------------------------------------------\n",
      " case_id              | 1014127333                           \n",
      " case_opened_date     | 1/1/18 0:46                          \n",
      " case_closed_date     | 1/3/18 8:11                          \n",
      " case_due_date        | 1/5/18 8:30                          \n",
      " case_late            | NO                                   \n",
      " num_days_late        | -2.012604167                         \n",
      " case_closed          | YES                                  \n",
      " dept_division        | Storm Water                          \n",
      " service_request_type | Removal Of Obstruction               \n",
      " SLA_days             | 4.322222222                          \n",
      " case_status          | Closed                               \n",
      " source_id            | svcCRMSS                             \n",
      " request_address      | 2215  GOLIAD RD, San Antonio, 78223  \n",
      " council_district     | 3                                    \n",
      "only showing top 2 rows\n",
      "\n"
     ]
    },
    {
     "name": "stderr",
     "output_type": "stream",
     "text": [
      "\r",
      "                                                                                \r"
     ]
    }
   ],
   "source": [
    "df.show(2, vertical=True, truncate=False)"
   ]
  },
  {
   "cell_type": "code",
   "execution_count": 44,
   "id": "fa488981",
   "metadata": {},
   "outputs": [
    {
     "data": {
      "text/plain": [
       "[('case_id', 'bigint'),\n",
       " ('case_opened_date', 'string'),\n",
       " ('case_closed_date', 'string'),\n",
       " ('case_due_date', 'string'),\n",
       " ('case_late', 'string'),\n",
       " ('num_days_late', 'double'),\n",
       " ('case_closed', 'string'),\n",
       " ('dept_division', 'string'),\n",
       " ('service_request_type', 'string'),\n",
       " ('SLA_days', 'double'),\n",
       " ('case_status', 'string'),\n",
       " ('source_id', 'string'),\n",
       " ('request_address', 'string'),\n",
       " ('council_district', 'bigint')]"
      ]
     },
     "execution_count": 44,
     "metadata": {},
     "output_type": "execute_result"
    }
   ],
   "source": [
    "df.dtypes"
   ]
  },
  {
   "cell_type": "code",
   "execution_count": 45,
   "id": "fe2a0478",
   "metadata": {},
   "outputs": [
    {
     "name": "stdout",
     "output_type": "stream",
     "text": [
      "22/10/21 15:09:31 WARN TaskSetManager: Stage 30 contains a task of very large size (2205 KiB). The maximum recommended task size is 1000 KiB.\n"
     ]
    },
    {
     "name": "stderr",
     "output_type": "stream",
     "text": [
      "\r",
      "[Stage 30:>                                                         (0 + 8) / 8]\r"
     ]
    },
    {
     "name": "stdout",
     "output_type": "stream",
     "text": [
      "+-----------+\n",
      "|case_closed|\n",
      "+-----------+\n",
      "|        YES|\n",
      "|         NO|\n",
      "+-----------+\n",
      "\n"
     ]
    },
    {
     "name": "stderr",
     "output_type": "stream",
     "text": [
      "\r",
      "                                                                                \r"
     ]
    }
   ],
   "source": [
    "df.select('case_closed').distinct().show()"
   ]
  },
  {
   "cell_type": "code",
   "execution_count": 47,
   "id": "db1baf06",
   "metadata": {},
   "outputs": [
    {
     "name": "stdout",
     "output_type": "stream",
     "text": [
      "22/10/21 15:10:09 WARN TaskSetManager: Stage 33 contains a task of very large size (2205 KiB). The maximum recommended task size is 1000 KiB.\n"
     ]
    },
    {
     "name": "stderr",
     "output_type": "stream",
     "text": [
      "\r",
      "[Stage 33:>                                                         (0 + 8) / 8]\r",
      "\r",
      "[Stage 33:=======>                                                  (1 + 7) / 8]\r"
     ]
    },
    {
     "name": "stdout",
     "output_type": "stream",
     "text": [
      "+---------+\n",
      "|case_late|\n",
      "+---------+\n",
      "|      YES|\n",
      "|       NO|\n",
      "+---------+\n",
      "\n"
     ]
    },
    {
     "name": "stderr",
     "output_type": "stream",
     "text": [
      "\r",
      "                                                                                \r"
     ]
    }
   ],
   "source": [
    "df.select('case_late').distinct().show()"
   ]
  },
  {
   "cell_type": "code",
   "execution_count": 48,
   "id": "36ef13a5",
   "metadata": {},
   "outputs": [],
   "source": [
    "test = df.withColumn('case_closed', expr('case_closed == \"YES\"')).select('case_closed').distinct()"
   ]
  },
  {
   "cell_type": "code",
   "execution_count": 49,
   "id": "6c569206",
   "metadata": {},
   "outputs": [
    {
     "name": "stdout",
     "output_type": "stream",
     "text": [
      "22/10/21 15:11:09 WARN TaskSetManager: Stage 36 contains a task of very large size (2205 KiB). The maximum recommended task size is 1000 KiB.\n",
      "+-----------+\n",
      "|case_closed|\n",
      "+-----------+\n",
      "|       true|\n",
      "|      false|\n",
      "+-----------+\n",
      "\n"
     ]
    }
   ],
   "source": [
    "test.show()"
   ]
  },
  {
   "cell_type": "code",
   "execution_count": 50,
   "id": "b7ed514d",
   "metadata": {},
   "outputs": [
    {
     "data": {
      "text/plain": [
       "pyspark.sql.dataframe.DataFrame"
      ]
     },
     "execution_count": 50,
     "metadata": {},
     "output_type": "execute_result"
    }
   ],
   "source": [
    "type(test)"
   ]
  },
  {
   "cell_type": "code",
   "execution_count": 51,
   "id": "1f183e04",
   "metadata": {},
   "outputs": [
    {
     "data": {
      "text/plain": [
       "DataFrame[case_id: bigint, case_opened_date: string, case_closed_date: string, case_due_date: string, case_late: string, num_days_late: double, case_closed: boolean, dept_division: string, service_request_type: string, SLA_days: double, case_status: string, source_id: string, request_address: string, council_district: bigint]"
      ]
     },
     "execution_count": 51,
     "metadata": {},
     "output_type": "execute_result"
    }
   ],
   "source": [
    "df = df.withColumn('case_closed', expr('case_closed == \"YES\"'))\n",
    "df"
   ]
  },
  {
   "cell_type": "code",
   "execution_count": 52,
   "id": "d61c21b4",
   "metadata": {},
   "outputs": [
    {
     "data": {
      "text/plain": [
       "DataFrame[case_id: bigint, case_opened_date: string, case_closed_date: string, case_due_date: string, case_late: boolean, num_days_late: double, case_closed: boolean, dept_division: string, service_request_type: string, SLA_days: double, case_status: string, source_id: string, request_address: string, council_district: bigint]"
      ]
     },
     "execution_count": 52,
     "metadata": {},
     "output_type": "execute_result"
    }
   ],
   "source": [
    "df = df.withColumn('case_late', expr('case_late == \"YES\"'))\n",
    "df"
   ]
  },
  {
   "cell_type": "code",
   "execution_count": 53,
   "id": "5bd37427",
   "metadata": {},
   "outputs": [
    {
     "name": "stdout",
     "output_type": "stream",
     "text": [
      "22/10/21 15:12:58 WARN TaskSetManager: Stage 39 contains a task of very large size (2205 KiB). The maximum recommended task size is 1000 KiB.\n",
      "+-----------+---------+\n",
      "|case_closed|case_late|\n",
      "+-----------+---------+\n",
      "|       true|    false|\n",
      "|       true|     true|\n",
      "|      false|    false|\n",
      "|      false|     true|\n",
      "+-----------+---------+\n",
      "\n"
     ]
    }
   ],
   "source": [
    "df.select('case_closed', 'case_late').distinct().show()"
   ]
  },
  {
   "cell_type": "code",
   "execution_count": 55,
   "id": "92dbb1e4",
   "metadata": {},
   "outputs": [
    {
     "data": {
      "text/plain": [
       "[('case_id', 'bigint'),\n",
       " ('case_opened_date', 'string'),\n",
       " ('case_closed_date', 'string'),\n",
       " ('case_due_date', 'string'),\n",
       " ('case_late', 'boolean'),\n",
       " ('num_days_late', 'double'),\n",
       " ('case_closed', 'boolean'),\n",
       " ('dept_division', 'string'),\n",
       " ('service_request_type', 'string'),\n",
       " ('SLA_days', 'double'),\n",
       " ('case_status', 'string'),\n",
       " ('source_id', 'string'),\n",
       " ('request_address', 'string'),\n",
       " ('council_district', 'bigint')]"
      ]
     },
     "execution_count": 55,
     "metadata": {},
     "output_type": "execute_result"
    }
   ],
   "source": [
    "df.dtypes"
   ]
  },
  {
   "cell_type": "code",
   "execution_count": 56,
   "id": "65ed8484",
   "metadata": {},
   "outputs": [
    {
     "name": "stdout",
     "output_type": "stream",
     "text": [
      "22/10/21 15:13:41 WARN TaskSetManager: Stage 42 contains a task of very large size (2205 KiB). The maximum recommended task size is 1000 KiB.\n"
     ]
    },
    {
     "name": "stderr",
     "output_type": "stream",
     "text": [
      "\r",
      "[Stage 42:=======>                                                  (1 + 7) / 8]\r"
     ]
    },
    {
     "name": "stdout",
     "output_type": "stream",
     "text": [
      "+----------------+-----+\n",
      "|council_district|count|\n",
      "+----------------+-----+\n",
      "|               0|  511|\n",
      "|               7| 8010|\n",
      "|               6| 8385|\n",
      "|               9| 4773|\n",
      "|               5|13404|\n",
      "|               1|14640|\n",
      "|              10| 6888|\n",
      "|               3|11813|\n",
      "|               8| 4980|\n",
      "|               2|13619|\n",
      "|               4|12977|\n",
      "+----------------+-----+\n",
      "\n"
     ]
    },
    {
     "name": "stderr",
     "output_type": "stream",
     "text": [
      "\r",
      "                                                                                \r"
     ]
    }
   ],
   "source": [
    "df.groupby('council_district').count().show()"
   ]
  },
  {
   "cell_type": "code",
   "execution_count": 57,
   "id": "5bf22d55",
   "metadata": {},
   "outputs": [
    {
     "data": {
      "text/plain": [
       "DataFrame[case_id: bigint, case_opened_date: string, case_closed_date: string, case_due_date: string, case_late: boolean, num_days_late: double, case_closed: boolean, dept_division: string, service_request_type: string, SLA_days: double, case_status: string, source_id: string, request_address: string, council_district: string]"
      ]
     },
     "execution_count": 57,
     "metadata": {},
     "output_type": "execute_result"
    }
   ],
   "source": [
    "df = df.withColumn('council_district', col('council_district').cast('string'))\n",
    "df"
   ]
  },
  {
   "cell_type": "code",
   "execution_count": 58,
   "id": "af1b46f9",
   "metadata": {},
   "outputs": [
    {
     "data": {
      "text/plain": [
       "[('case_id', 'bigint'),\n",
       " ('case_opened_date', 'string'),\n",
       " ('case_closed_date', 'string'),\n",
       " ('case_due_date', 'string'),\n",
       " ('case_late', 'boolean'),\n",
       " ('num_days_late', 'double'),\n",
       " ('case_closed', 'boolean'),\n",
       " ('dept_division', 'string'),\n",
       " ('service_request_type', 'string'),\n",
       " ('SLA_days', 'double'),\n",
       " ('case_status', 'string'),\n",
       " ('source_id', 'string'),\n",
       " ('request_address', 'string'),\n",
       " ('council_district', 'string')]"
      ]
     },
     "execution_count": 58,
     "metadata": {},
     "output_type": "execute_result"
    }
   ],
   "source": [
    "df.dtypes"
   ]
  },
  {
   "cell_type": "code",
   "execution_count": 59,
   "id": "b8d166f4",
   "metadata": {},
   "outputs": [
    {
     "name": "stdout",
     "output_type": "stream",
     "text": [
      "22/10/21 15:15:25 WARN TaskSetManager: Stage 45 contains a task of very large size (2205 KiB). The maximum recommended task size is 1000 KiB.\n",
      "+----------------+----------------+-------------+\n",
      "|case_opened_date|case_closed_date|case_due_date|\n",
      "+----------------+----------------+-------------+\n",
      "|     1/1/18 0:42|    1/1/18 12:29| 9/26/20 0:42|\n",
      "|     1/1/18 0:46|     1/3/18 8:11|  1/5/18 8:30|\n",
      "|     1/1/18 0:48|     1/2/18 7:57|  1/5/18 8:30|\n",
      "|     1/1/18 1:29|     1/2/18 8:13| 1/17/18 8:30|\n",
      "|     1/1/18 1:34|    1/1/18 13:29|  1/1/18 4:34|\n",
      "+----------------+----------------+-------------+\n",
      "only showing top 5 rows\n",
      "\n"
     ]
    }
   ],
   "source": [
    "df.select('case_opened_date', 'case_closed_date', 'case_due_date').show(5)"
   ]
  },
  {
   "cell_type": "code",
   "execution_count": 60,
   "id": "a77931f9",
   "metadata": {},
   "outputs": [
    {
     "name": "stdout",
     "output_type": "stream",
     "text": [
      "22/10/21 15:16:24 WARN TaskSetManager: Stage 46 contains a task of very large size (2205 KiB). The maximum recommended task size is 1000 KiB.\n"
     ]
    },
    {
     "name": "stderr",
     "output_type": "stream",
     "text": [
      "\r",
      "[Stage 46:>                                                         (0 + 1) / 1]\r"
     ]
    },
    {
     "name": "stdout",
     "output_type": "stream",
     "text": [
      "22/10/21 15:16:28 WARN PythonRunner: Detected deadlock while completing task 0.0 in stage 46 (TID 127): Attempting to kill Python Worker\n",
      "+----------------+\n",
      "|case_opened_date|\n",
      "+----------------+\n",
      "|            null|\n",
      "|            null|\n",
      "|            null|\n",
      "|            null|\n",
      "|            null|\n",
      "+----------------+\n",
      "only showing top 5 rows\n",
      "\n"
     ]
    },
    {
     "name": "stderr",
     "output_type": "stream",
     "text": [
      "\r",
      "                                                                                \r"
     ]
    }
   ],
   "source": [
    "df.withColumn('case_opened_date', to_timestamp('case_opened_date')).select('case_opened_date').show(5)"
   ]
  },
  {
   "cell_type": "code",
   "execution_count": 61,
   "id": "ed081e94",
   "metadata": {},
   "outputs": [],
   "source": [
    "fmt = 'M/d/yy H:m'"
   ]
  },
  {
   "cell_type": "code",
   "execution_count": 62,
   "id": "9a1be354",
   "metadata": {},
   "outputs": [
    {
     "name": "stdout",
     "output_type": "stream",
     "text": [
      "22/10/21 15:17:39 WARN TaskSetManager: Stage 47 contains a task of very large size (2205 KiB). The maximum recommended task size is 1000 KiB.\n"
     ]
    },
    {
     "name": "stderr",
     "output_type": "stream",
     "text": [
      "\r",
      "[Stage 47:>                                                         (0 + 1) / 1]\r"
     ]
    },
    {
     "name": "stdout",
     "output_type": "stream",
     "text": [
      "22/10/21 15:17:43 WARN PythonRunner: Detected deadlock while completing task 0.0 in stage 47 (TID 128): Attempting to kill Python Worker\n",
      "+-------------------+\n",
      "|   case_opened_date|\n",
      "+-------------------+\n",
      "|2018-01-01 00:42:00|\n",
      "|2018-01-01 00:46:00|\n",
      "|2018-01-01 00:48:00|\n",
      "|2018-01-01 01:29:00|\n",
      "|2018-01-01 01:34:00|\n",
      "+-------------------+\n",
      "only showing top 5 rows\n",
      "\n"
     ]
    },
    {
     "name": "stderr",
     "output_type": "stream",
     "text": [
      "\r",
      "                                                                                \r"
     ]
    }
   ],
   "source": [
    "df.withColumn('case_opened_date', to_timestamp('case_opened_date', fmt)).select('case_opened_date').show(5)"
   ]
  },
  {
   "cell_type": "code",
   "execution_count": 63,
   "id": "0e5a03f2",
   "metadata": {},
   "outputs": [],
   "source": [
    "df = (df.withColumn('case_opened_date', to_timestamp('case_opened_date', fmt))\n",
    "     .withColumn('case_closed_date', to_timestamp('case_closed_date', fmt))\n",
    "     .withColumn('case_due_date', to_timestamp('case_due_date', fmt)))"
   ]
  },
  {
   "cell_type": "code",
   "execution_count": 64,
   "id": "d77b2f2b",
   "metadata": {},
   "outputs": [
    {
     "name": "stdout",
     "output_type": "stream",
     "text": [
      "22/10/21 15:20:24 WARN TaskSetManager: Stage 48 contains a task of very large size (2205 KiB). The maximum recommended task size is 1000 KiB.\n"
     ]
    },
    {
     "name": "stderr",
     "output_type": "stream",
     "text": [
      "\r",
      "[Stage 48:>                                                         (0 + 1) / 1]\r"
     ]
    },
    {
     "name": "stdout",
     "output_type": "stream",
     "text": [
      "22/10/21 15:20:28 WARN PythonRunner: Detected deadlock while completing task 0.0 in stage 48 (TID 129): Attempting to kill Python Worker\n",
      "+-------------------+-------------------+-------------------+\n",
      "|   case_opened_date|   case_closed_date|      case_due_date|\n",
      "+-------------------+-------------------+-------------------+\n",
      "|2018-01-01 00:42:00|2018-01-01 12:29:00|2020-09-26 00:42:00|\n",
      "|2018-01-01 00:46:00|2018-01-03 08:11:00|2018-01-05 08:30:00|\n",
      "|2018-01-01 00:48:00|2018-01-02 07:57:00|2018-01-05 08:30:00|\n",
      "|2018-01-01 01:29:00|2018-01-02 08:13:00|2018-01-17 08:30:00|\n",
      "|2018-01-01 01:34:00|2018-01-01 13:29:00|2018-01-01 04:34:00|\n",
      "+-------------------+-------------------+-------------------+\n",
      "only showing top 5 rows\n",
      "\n"
     ]
    },
    {
     "name": "stderr",
     "output_type": "stream",
     "text": [
      "\r",
      "                                                                                \r"
     ]
    }
   ],
   "source": [
    "df.select('case_opened_date', 'case_closed_date', 'case_due_date').show(5)"
   ]
  },
  {
   "cell_type": "code",
   "execution_count": 65,
   "id": "c95aa794",
   "metadata": {},
   "outputs": [
    {
     "data": {
      "text/plain": [
       "[('case_id', 'bigint'),\n",
       " ('case_opened_date', 'timestamp'),\n",
       " ('case_closed_date', 'timestamp'),\n",
       " ('case_due_date', 'timestamp'),\n",
       " ('case_late', 'boolean'),\n",
       " ('num_days_late', 'double'),\n",
       " ('case_closed', 'boolean'),\n",
       " ('dept_division', 'string'),\n",
       " ('service_request_type', 'string'),\n",
       " ('SLA_days', 'double'),\n",
       " ('case_status', 'string'),\n",
       " ('source_id', 'string'),\n",
       " ('request_address', 'string'),\n",
       " ('council_district', 'string')]"
      ]
     },
     "execution_count": 65,
     "metadata": {},
     "output_type": "execute_result"
    }
   ],
   "source": [
    "df.dtypes"
   ]
  },
  {
   "cell_type": "code",
   "execution_count": 66,
   "id": "a14681a4",
   "metadata": {},
   "outputs": [
    {
     "name": "stdout",
     "output_type": "stream",
     "text": [
      "22/10/21 15:21:03 WARN TaskSetManager: Stage 49 contains a task of very large size (2205 KiB). The maximum recommended task size is 1000 KiB.\n",
      "+-------------------------------------+\n",
      "|request_address                      |\n",
      "+-------------------------------------+\n",
      "|2315  EL PASO ST, San Antonio, 78207 |\n",
      "|2215  GOLIAD RD, San Antonio, 78223  |\n",
      "|102  PALFREY ST W, San Antonio, 78223|\n",
      "|114  LA GARDE ST, San Antonio, 78223 |\n",
      "|734  CLEARVIEW DR, San Antonio, 78228|\n",
      "+-------------------------------------+\n",
      "only showing top 5 rows\n",
      "\n"
     ]
    }
   ],
   "source": [
    "df.select('request_address').show(5, truncate=False)"
   ]
  },
  {
   "cell_type": "code",
   "execution_count": 68,
   "id": "66e673ea",
   "metadata": {},
   "outputs": [
    {
     "name": "stdout",
     "output_type": "stream",
     "text": [
      "22/10/21 15:22:00 WARN TaskSetManager: Stage 51 contains a task of very large size (2205 KiB). The maximum recommended task size is 1000 KiB.\n"
     ]
    },
    {
     "name": "stderr",
     "output_type": "stream",
     "text": [
      "\r",
      "[Stage 51:>                                                         (0 + 1) / 1]\r"
     ]
    },
    {
     "name": "stdout",
     "output_type": "stream",
     "text": [
      "22/10/21 15:22:04 WARN PythonRunner: Detected deadlock while completing task 0.0 in stage 51 (TID 132): Attempting to kill Python Worker\n",
      "+--------------------+\n",
      "|     request_address|\n",
      "+--------------------+\n",
      "|2315  el paso st,...|\n",
      "|2215  goliad rd, ...|\n",
      "|102  palfrey st w...|\n",
      "|114  la garde st,...|\n",
      "|734  clearview dr...|\n",
      "+--------------------+\n",
      "only showing top 5 rows\n",
      "\n"
     ]
    },
    {
     "name": "stderr",
     "output_type": "stream",
     "text": [
      "\r",
      "                                                                                \r"
     ]
    }
   ],
   "source": [
    "df.withColumn('request_address', trim(lower('request_address'))).select('request_address').show(5)"
   ]
  },
  {
   "cell_type": "code",
   "execution_count": 69,
   "id": "45f4171c",
   "metadata": {},
   "outputs": [
    {
     "data": {
      "text/plain": [
       "DataFrame[case_id: bigint, case_opened_date: timestamp, case_closed_date: timestamp, case_due_date: timestamp, case_late: boolean, num_days_late: double, case_closed: boolean, dept_division: string, service_request_type: string, SLA_days: double, case_status: string, source_id: string, request_address: string, council_district: string]"
      ]
     },
     "execution_count": 69,
     "metadata": {},
     "output_type": "execute_result"
    }
   ],
   "source": [
    "df = df.withColumn('request_address', trim(lower('request_address')))\n",
    "df"
   ]
  },
  {
   "cell_type": "code",
   "execution_count": 70,
   "id": "1e94ed0e",
   "metadata": {},
   "outputs": [
    {
     "name": "stdout",
     "output_type": "stream",
     "text": [
      "22/10/21 15:24:43 WARN TaskSetManager: Stage 52 contains a task of very large size (2205 KiB). The maximum recommended task size is 1000 KiB.\n"
     ]
    },
    {
     "name": "stderr",
     "output_type": "stream",
     "text": [
      "\r",
      "[Stage 52:>                                                         (0 + 1) / 1]\r"
     ]
    },
    {
     "name": "stdout",
     "output_type": "stream",
     "text": [
      "22/10/21 15:24:47 WARN PythonRunner: Detected deadlock while completing task 0.0 in stage 52 (TID 133): Attempting to kill Python Worker\n",
      "+-------------------------------------+\n",
      "|request_address                      |\n",
      "+-------------------------------------+\n",
      "|2315  el paso st, san antonio, 78207 |\n",
      "|2215  goliad rd, san antonio, 78223  |\n",
      "|102  palfrey st w, san antonio, 78223|\n",
      "|114  la garde st, san antonio, 78223 |\n",
      "|734  clearview dr, san antonio, 78228|\n",
      "+-------------------------------------+\n",
      "only showing top 5 rows\n",
      "\n"
     ]
    },
    {
     "name": "stderr",
     "output_type": "stream",
     "text": [
      "\r",
      "                                                                                \r"
     ]
    }
   ],
   "source": [
    "df.select('request_address').show(5, truncate=False)"
   ]
  },
  {
   "cell_type": "code",
   "execution_count": 71,
   "id": "b47ef62a",
   "metadata": {},
   "outputs": [
    {
     "name": "stdout",
     "output_type": "stream",
     "text": [
      "22/10/21 15:26:44 WARN TaskSetManager: Stage 53 contains a task of very large size (2205 KiB). The maximum recommended task size is 1000 KiB.\n"
     ]
    },
    {
     "name": "stderr",
     "output_type": "stream",
     "text": [
      "\r",
      "[Stage 53:>                                                         (0 + 1) / 1]\r"
     ]
    },
    {
     "name": "stdout",
     "output_type": "stream",
     "text": [
      "22/10/21 15:26:48 WARN PythonRunner: Detected deadlock while completing task 0.0 in stage 53 (TID 134): Attempting to kill Python Worker\n",
      "+-------------+\n",
      "|num_days_late|\n",
      "+-------------+\n",
      "| -998.5087616|\n",
      "| -2.012604167|\n",
      "| -3.022337963|\n",
      "| -15.01148148|\n",
      "|  0.372164352|\n",
      "+-------------+\n",
      "only showing top 5 rows\n",
      "\n"
     ]
    },
    {
     "name": "stderr",
     "output_type": "stream",
     "text": [
      "\r",
      "                                                                                \r"
     ]
    }
   ],
   "source": [
    "df.select('num_days_late').show(5)"
   ]
  },
  {
   "cell_type": "code",
   "execution_count": 72,
   "id": "3cdb2df2",
   "metadata": {},
   "outputs": [],
   "source": [
    "df = df.withColumn('num_weeks_late', expr('num_days_late / 7'))"
   ]
  },
  {
   "cell_type": "code",
   "execution_count": 73,
   "id": "340a15a6",
   "metadata": {},
   "outputs": [
    {
     "name": "stdout",
     "output_type": "stream",
     "text": [
      "22/10/21 15:27:45 WARN TaskSetManager: Stage 54 contains a task of very large size (2205 KiB). The maximum recommended task size is 1000 KiB.\n"
     ]
    },
    {
     "name": "stderr",
     "output_type": "stream",
     "text": [
      "\r",
      "[Stage 54:>                                                         (0 + 1) / 1]\r"
     ]
    },
    {
     "name": "stdout",
     "output_type": "stream",
     "text": [
      "22/10/21 15:27:49 WARN PythonRunner: Detected deadlock while completing task 0.0 in stage 54 (TID 135): Attempting to kill Python Worker\n",
      "+-------------+--------------------+\n",
      "|num_days_late|      num_weeks_late|\n",
      "+-------------+--------------------+\n",
      "| -998.5087616|        -142.6441088|\n",
      "| -2.012604167|        -0.287514881|\n",
      "| -3.022337963|-0.43176256614285713|\n",
      "| -15.01148148| -2.1444973542857144|\n",
      "|  0.372164352|0.053166335999999995|\n",
      "+-------------+--------------------+\n",
      "only showing top 5 rows\n",
      "\n"
     ]
    },
    {
     "name": "stderr",
     "output_type": "stream",
     "text": [
      "\r",
      "                                                                                \r"
     ]
    }
   ],
   "source": [
    "df.select('num_days_late', 'num_weeks_late').show(5)"
   ]
  },
  {
   "cell_type": "code",
   "execution_count": 74,
   "id": "90f162c1",
   "metadata": {},
   "outputs": [
    {
     "data": {
      "text/plain": [
       "['case_id',\n",
       " 'case_opened_date',\n",
       " 'case_closed_date',\n",
       " 'case_due_date',\n",
       " 'case_late',\n",
       " 'case_closed',\n",
       " 'dept_division',\n",
       " 'service_request_type',\n",
       " 'SLA_days',\n",
       " 'case_status',\n",
       " 'source_id',\n",
       " 'request_address',\n",
       " 'council_district',\n",
       " 'num_weeks_late']"
      ]
     },
     "execution_count": 74,
     "metadata": {},
     "output_type": "execute_result"
    }
   ],
   "source": [
    "df.drop('num_days_late').columns"
   ]
  },
  {
   "cell_type": "code",
   "execution_count": 75,
   "id": "62ba9674",
   "metadata": {},
   "outputs": [
    {
     "name": "stdout",
     "output_type": "stream",
     "text": [
      "22/10/21 15:28:51 WARN TaskSetManager: Stage 55 contains a task of very large size (2205 KiB). The maximum recommended task size is 1000 KiB.\n"
     ]
    },
    {
     "name": "stderr",
     "output_type": "stream",
     "text": [
      "[Stage 55:=======>                                                  (1 + 7) / 8]\r"
     ]
    },
    {
     "name": "stdout",
     "output_type": "stream",
     "text": [
      "+----------------+\n",
      "|council_district|\n",
      "+----------------+\n",
      "|               7|\n",
      "|               3|\n",
      "|               8|\n",
      "|               0|\n",
      "|               5|\n",
      "|               6|\n",
      "|               9|\n",
      "|               1|\n",
      "|              10|\n",
      "|               4|\n",
      "|               2|\n",
      "+----------------+\n",
      "\n"
     ]
    },
    {
     "name": "stderr",
     "output_type": "stream",
     "text": [
      "\r",
      "                                                                                \r"
     ]
    }
   ],
   "source": [
    "df.select('council_district').distinct().show()"
   ]
  },
  {
   "cell_type": "code",
   "execution_count": 76,
   "id": "fdfba09a",
   "metadata": {},
   "outputs": [],
   "source": [
    "df = df.withColumn('council_district', format_string('%03d', col('council_district').cast('int')))"
   ]
  },
  {
   "cell_type": "code",
   "execution_count": 77,
   "id": "184d989b",
   "metadata": {},
   "outputs": [
    {
     "name": "stdout",
     "output_type": "stream",
     "text": [
      "22/10/21 15:30:17 WARN TaskSetManager: Stage 58 contains a task of very large size (2205 KiB). The maximum recommended task size is 1000 KiB.\n"
     ]
    },
    {
     "name": "stderr",
     "output_type": "stream",
     "text": [
      "\r",
      "[Stage 58:>                                                         (0 + 8) / 8]\r"
     ]
    },
    {
     "name": "stdout",
     "output_type": "stream",
     "text": [
      "+----------------+\n",
      "|council_district|\n",
      "+----------------+\n",
      "|             009|\n",
      "|             006|\n",
      "|             005|\n",
      "|             003|\n",
      "|             008|\n",
      "|             001|\n",
      "|             010|\n",
      "|             004|\n",
      "|             000|\n",
      "|             007|\n",
      "|             002|\n",
      "+----------------+\n",
      "\n"
     ]
    },
    {
     "name": "stderr",
     "output_type": "stream",
     "text": [
      "\r",
      "                                                                                \r"
     ]
    }
   ],
   "source": [
    "df.select('council_district').distinct().show()"
   ]
  },
  {
   "cell_type": "code",
   "execution_count": 78,
   "id": "4e48a54e",
   "metadata": {},
   "outputs": [
    {
     "data": {
      "text/plain": [
       "[('case_id', 'bigint'),\n",
       " ('case_opened_date', 'timestamp'),\n",
       " ('case_closed_date', 'timestamp'),\n",
       " ('case_due_date', 'timestamp'),\n",
       " ('case_late', 'boolean'),\n",
       " ('num_days_late', 'double'),\n",
       " ('case_closed', 'boolean'),\n",
       " ('dept_division', 'string'),\n",
       " ('service_request_type', 'string'),\n",
       " ('SLA_days', 'double'),\n",
       " ('case_status', 'string'),\n",
       " ('source_id', 'string'),\n",
       " ('request_address', 'string'),\n",
       " ('council_district', 'string'),\n",
       " ('num_weeks_late', 'double')]"
      ]
     },
     "execution_count": 78,
     "metadata": {},
     "output_type": "execute_result"
    }
   ],
   "source": [
    "df.dtypes"
   ]
  },
  {
   "cell_type": "code",
   "execution_count": 79,
   "id": "66abfce8",
   "metadata": {},
   "outputs": [
    {
     "name": "stdout",
     "output_type": "stream",
     "text": [
      "22/10/21 15:30:42 WARN TaskSetManager: Stage 61 contains a task of very large size (2205 KiB). The maximum recommended task size is 1000 KiB.\n",
      "-RECORD 0------------------------------------\n",
      " case_id              | 1014127332           \n",
      " case_opened_date     | 2018-01-01 00:42:00  \n",
      " case_closed_date     | 2018-01-01 12:29:00  \n",
      " case_due_date        | 2020-09-26 00:42:00  \n",
      " case_late            | false                \n",
      " num_days_late        | -998.5087616         \n",
      " case_closed          | true                 \n",
      " dept_division        | Field Operations     \n",
      " service_request_type | Stray Animal         \n",
      " SLA_days             | 999.0                \n",
      " case_status          | Closed               \n",
      " source_id            | svcCRMLS             \n",
      " request_address      | 2315  el paso st,... \n",
      " council_district     | 005                  \n",
      " num_weeks_late       | -142.6441088         \n",
      "-RECORD 1------------------------------------\n",
      " case_id              | 1014127333           \n",
      " case_opened_date     | 2018-01-01 00:46:00  \n",
      " case_closed_date     | 2018-01-03 08:11:00  \n",
      " case_due_date        | 2018-01-05 08:30:00  \n",
      " case_late            | false                \n",
      " num_days_late        | -2.012604167         \n",
      " case_closed          | true                 \n",
      " dept_division        | Storm Water          \n",
      " service_request_type | Removal Of Obstru... \n",
      " SLA_days             | 4.322222222          \n",
      " case_status          | Closed               \n",
      " source_id            | svcCRMSS             \n",
      " request_address      | 2215  goliad rd, ... \n",
      " council_district     | 003                  \n",
      " num_weeks_late       | -0.287514881         \n",
      "only showing top 2 rows\n",
      "\n"
     ]
    }
   ],
   "source": [
    "df.show(vertical=True, n=2)"
   ]
  },
  {
   "cell_type": "code",
   "execution_count": 80,
   "id": "b8ebda5f",
   "metadata": {},
   "outputs": [
    {
     "data": {
      "text/plain": [
       "['case_id',\n",
       " 'case_opened_date',\n",
       " 'case_closed_date',\n",
       " 'case_due_date',\n",
       " 'case_late',\n",
       " 'num_days_late',\n",
       " 'case_closed',\n",
       " 'dept_division',\n",
       " 'service_request_type',\n",
       " 'SLA_days',\n",
       " 'case_status',\n",
       " 'source_id',\n",
       " 'request_address',\n",
       " 'council_district',\n",
       " 'num_weeks_late']"
      ]
     },
     "execution_count": 80,
     "metadata": {},
     "output_type": "execute_result"
    }
   ],
   "source": [
    "df.columns"
   ]
  },
  {
   "cell_type": "code",
   "execution_count": 81,
   "id": "4e7b477a",
   "metadata": {},
   "outputs": [
    {
     "name": "stdout",
     "output_type": "stream",
     "text": [
      "22/10/21 15:31:18 WARN TaskSetManager: Stage 62 contains a task of very large size (2205 KiB). The maximum recommended task size is 1000 KiB.\n",
      "+-------------------------------------+\n",
      "|request_address                      |\n",
      "+-------------------------------------+\n",
      "|2315  el paso st, san antonio, 78207 |\n",
      "|2215  goliad rd, san antonio, 78223  |\n",
      "|102  palfrey st w, san antonio, 78223|\n",
      "|114  la garde st, san antonio, 78223 |\n",
      "|734  clearview dr, san antonio, 78228|\n",
      "+-------------------------------------+\n",
      "only showing top 5 rows\n",
      "\n"
     ]
    }
   ],
   "source": [
    "df.select('request_address').show(5, truncate=False)"
   ]
  },
  {
   "cell_type": "code",
   "execution_count": 82,
   "id": "20c9a210",
   "metadata": {},
   "outputs": [
    {
     "name": "stdout",
     "output_type": "stream",
     "text": [
      "22/10/21 15:32:33 WARN TaskSetManager: Stage 63 contains a task of very large size (2205 KiB). The maximum recommended task size is 1000 KiB.\n",
      "+--------+\n",
      "|zip_code|\n",
      "+--------+\n",
      "|   78207|\n",
      "|   78223|\n",
      "|   78223|\n",
      "|   78223|\n",
      "|   78228|\n",
      "+--------+\n",
      "only showing top 5 rows\n",
      "\n"
     ]
    }
   ],
   "source": [
    "df.withColumn('zip_code', regexp_extract('request_address', r'\\d+$', 0)).select('zip_code').show(5)"
   ]
  },
  {
   "cell_type": "code",
   "execution_count": 86,
   "id": "1283e0bb",
   "metadata": {},
   "outputs": [],
   "source": [
    "df = df.withColumn('zip_code', regexp_extract('request_address', r'\\d+$', 0))"
   ]
  },
  {
   "cell_type": "code",
   "execution_count": 87,
   "id": "7a619e35",
   "metadata": {},
   "outputs": [
    {
     "name": "stdout",
     "output_type": "stream",
     "text": [
      "22/10/21 15:35:30 WARN TaskSetManager: Stage 64 contains a task of very large size (2205 KiB). The maximum recommended task size is 1000 KiB.\n"
     ]
    },
    {
     "name": "stderr",
     "output_type": "stream",
     "text": [
      "\r",
      "[Stage 64:>                                                         (0 + 1) / 1]\r"
     ]
    },
    {
     "name": "stdout",
     "output_type": "stream",
     "text": [
      "22/10/21 15:35:34 WARN PythonRunner: Detected deadlock while completing task 0.0 in stage 64 (TID 157): Attempting to kill Python Worker\n",
      "+-------------------------------------+--------+\n",
      "|request_address                      |zip_code|\n",
      "+-------------------------------------+--------+\n",
      "|2315  el paso st, san antonio, 78207 |78207   |\n",
      "|2215  goliad rd, san antonio, 78223  |78223   |\n",
      "|102  palfrey st w, san antonio, 78223|78223   |\n",
      "|114  la garde st, san antonio, 78223 |78223   |\n",
      "|734  clearview dr, san antonio, 78228|78228   |\n",
      "+-------------------------------------+--------+\n",
      "only showing top 5 rows\n",
      "\n"
     ]
    },
    {
     "name": "stderr",
     "output_type": "stream",
     "text": [
      "\r",
      "                                                                                \r"
     ]
    }
   ],
   "source": [
    "df.select('request_address','zip_code').show(5, truncate=False)"
   ]
  },
  {
   "cell_type": "code",
   "execution_count": 88,
   "id": "704b9325",
   "metadata": {},
   "outputs": [
    {
     "name": "stdout",
     "output_type": "stream",
     "text": [
      "22/10/21 15:35:47 WARN TaskSetManager: Stage 65 contains a task of very large size (2205 KiB). The maximum recommended task size is 1000 KiB.\n",
      "-RECORD 0------------------------------------\n",
      " case_id              | 1014127332           \n",
      " case_opened_date     | 2018-01-01 00:42:00  \n",
      " case_closed_date     | 2018-01-01 12:29:00  \n",
      " case_due_date        | 2020-09-26 00:42:00  \n",
      " case_late            | false                \n",
      " num_days_late        | -998.5087616         \n",
      " case_closed          | true                 \n",
      " dept_division        | Field Operations     \n",
      " service_request_type | Stray Animal         \n",
      " SLA_days             | 999.0                \n",
      " case_status          | Closed               \n",
      " source_id            | svcCRMLS             \n",
      " request_address      | 2315  el paso st,... \n",
      " council_district     | 005                  \n",
      " num_weeks_late       | -142.6441088         \n",
      " zip_code             | 78207                \n",
      "only showing top 1 row\n",
      "\n"
     ]
    }
   ],
   "source": [
    "df.show(1, vertical=True)"
   ]
  },
  {
   "cell_type": "code",
   "execution_count": 89,
   "id": "309fe0c0",
   "metadata": {},
   "outputs": [
    {
     "data": {
      "text/plain": [
       "Column<'current_timestamp()'>"
      ]
     },
     "execution_count": 89,
     "metadata": {},
     "output_type": "execute_result"
    }
   ],
   "source": [
    "current_timestamp()"
   ]
  },
  {
   "cell_type": "code",
   "execution_count": 90,
   "id": "cf027d85",
   "metadata": {},
   "outputs": [
    {
     "name": "stdout",
     "output_type": "stream",
     "text": [
      "22/10/21 15:36:27 WARN TaskSetManager: Stage 66 contains a task of very large size (2205 KiB). The maximum recommended task size is 1000 KiB.\n"
     ]
    },
    {
     "name": "stderr",
     "output_type": "stream",
     "text": [
      "\r",
      "[Stage 66:>                                                         (0 + 1) / 1]\r"
     ]
    },
    {
     "name": "stdout",
     "output_type": "stream",
     "text": [
      "22/10/21 15:36:31 WARN PythonRunner: Detected deadlock while completing task 0.0 in stage 66 (TID 159): Attempting to kill Python Worker\n",
      "+--------------------------+\n",
      "|current_timestamp()       |\n",
      "+--------------------------+\n",
      "|2022-10-21 15:36:27.800913|\n",
      "+--------------------------+\n",
      "only showing top 1 row\n",
      "\n"
     ]
    },
    {
     "name": "stderr",
     "output_type": "stream",
     "text": [
      "\r",
      "                                                                                \r"
     ]
    }
   ],
   "source": [
    "df.select(current_timestamp()).show(1, truncate=False)"
   ]
  },
  {
   "cell_type": "code",
   "execution_count": 91,
   "id": "c26d6701",
   "metadata": {},
   "outputs": [],
   "source": [
    "df = df.withColumn('case_age', datediff(current_timestamp(), 'case_opened_date'))"
   ]
  },
  {
   "cell_type": "code",
   "execution_count": 92,
   "id": "938b3ef6",
   "metadata": {},
   "outputs": [
    {
     "name": "stdout",
     "output_type": "stream",
     "text": [
      "22/10/21 15:37:36 WARN TaskSetManager: Stage 67 contains a task of very large size (2205 KiB). The maximum recommended task size is 1000 KiB.\n"
     ]
    },
    {
     "name": "stderr",
     "output_type": "stream",
     "text": [
      "\r",
      "[Stage 67:>                                                         (0 + 1) / 1]\r"
     ]
    },
    {
     "name": "stdout",
     "output_type": "stream",
     "text": [
      "22/10/21 15:37:40 WARN PythonRunner: Detected deadlock while completing task 0.0 in stage 67 (TID 160): Attempting to kill Python Worker\n",
      "+-------------------+--------+\n",
      "|   case_opened_date|case_age|\n",
      "+-------------------+--------+\n",
      "|2018-01-01 00:42:00|    1754|\n",
      "|2018-01-01 00:46:00|    1754|\n",
      "|2018-01-01 00:48:00|    1754|\n",
      "|2018-01-01 01:29:00|    1754|\n",
      "|2018-01-01 01:34:00|    1754|\n",
      "+-------------------+--------+\n",
      "only showing top 5 rows\n",
      "\n"
     ]
    },
    {
     "name": "stderr",
     "output_type": "stream",
     "text": [
      "\r",
      "                                                                                \r"
     ]
    }
   ],
   "source": [
    "df.select('case_opened_date','case_age').show(5)"
   ]
  },
  {
   "cell_type": "code",
   "execution_count": 93,
   "id": "45fd5f09",
   "metadata": {},
   "outputs": [],
   "source": [
    "df = df.withColumn('days_to_close', datediff('case_closed_date', 'case_opened_date'))"
   ]
  },
  {
   "cell_type": "code",
   "execution_count": 94,
   "id": "86dae835",
   "metadata": {},
   "outputs": [
    {
     "name": "stdout",
     "output_type": "stream",
     "text": [
      "22/10/21 15:39:24 WARN TaskSetManager: Stage 68 contains a task of very large size (2205 KiB). The maximum recommended task size is 1000 KiB.\n"
     ]
    },
    {
     "name": "stderr",
     "output_type": "stream",
     "text": [
      "\r",
      "[Stage 68:>                                                         (0 + 1) / 1]\r"
     ]
    },
    {
     "name": "stdout",
     "output_type": "stream",
     "text": [
      "22/10/21 15:39:28 WARN PythonRunner: Detected deadlock while completing task 0.0 in stage 68 (TID 161): Attempting to kill Python Worker\n",
      "+-------------------+-------------------+-------------+\n",
      "|   case_closed_date|   case_opened_date|days_to_close|\n",
      "+-------------------+-------------------+-------------+\n",
      "|2018-01-01 12:29:00|2018-01-01 00:42:00|            0|\n",
      "|2018-01-03 08:11:00|2018-01-01 00:46:00|            2|\n",
      "|2018-01-02 07:57:00|2018-01-01 00:48:00|            1|\n",
      "|2018-01-02 08:13:00|2018-01-01 01:29:00|            1|\n",
      "|2018-01-01 13:29:00|2018-01-01 01:34:00|            0|\n",
      "+-------------------+-------------------+-------------+\n",
      "only showing top 5 rows\n",
      "\n"
     ]
    },
    {
     "name": "stderr",
     "output_type": "stream",
     "text": [
      "\r",
      "                                                                                \r"
     ]
    }
   ],
   "source": [
    "df.select('case_closed_date', 'case_opened_date', 'days_to_close').show(5)"
   ]
  },
  {
   "cell_type": "code",
   "execution_count": 96,
   "id": "4d3b075d",
   "metadata": {},
   "outputs": [
    {
     "name": "stdout",
     "output_type": "stream",
     "text": [
      "22/10/21 15:41:00 WARN TaskSetManager: Stage 69 contains a task of very large size (2205 KiB). The maximum recommended task size is 1000 KiB.\n",
      "+-----------+-------------------+-------------------+-------------+--------+\n",
      "|case_closed|   case_opened_date|   case_closed_date|days_to_close|case_age|\n",
      "+-----------+-------------------+-------------------+-------------+--------+\n",
      "|       true|2018-01-01 00:42:00|2018-01-01 12:29:00|            0|    1754|\n",
      "|       true|2018-01-01 00:46:00|2018-01-03 08:11:00|            2|    1754|\n",
      "|       true|2018-01-01 00:48:00|2018-01-02 07:57:00|            1|    1754|\n",
      "|       true|2018-01-01 01:29:00|2018-01-02 08:13:00|            1|    1754|\n",
      "|       true|2018-01-01 01:34:00|2018-01-01 13:29:00|            0|    1754|\n",
      "+-----------+-------------------+-------------------+-------------+--------+\n",
      "only showing top 5 rows\n",
      "\n"
     ]
    }
   ],
   "source": [
    "df.select('case_closed', 'case_opened_date', 'case_closed_date', 'days_to_close', 'case_age').where('case_closed == true').show(5)"
   ]
  },
  {
   "cell_type": "code",
   "execution_count": 97,
   "id": "a6b5531d",
   "metadata": {},
   "outputs": [
    {
     "name": "stdout",
     "output_type": "stream",
     "text": [
      "22/10/21 15:41:30 WARN TaskSetManager: Stage 70 contains a task of very large size (2205 KiB). The maximum recommended task size is 1000 KiB.\n"
     ]
    },
    {
     "name": "stderr",
     "output_type": "stream",
     "text": [
      "\r",
      "[Stage 70:>                                                         (0 + 1) / 1]\r"
     ]
    },
    {
     "name": "stdout",
     "output_type": "stream",
     "text": [
      "22/10/21 15:41:34 WARN PythonRunner: Detected deadlock while completing task 0.0 in stage 70 (TID 163): Attempting to kill Python Worker\n",
      "+-----------+-------------------+----------------+-------------+--------+\n",
      "|case_closed|   case_opened_date|case_closed_date|days_to_close|case_age|\n",
      "+-----------+-------------------+----------------+-------------+--------+\n",
      "|      false|2018-01-02 09:39:00|            null|         null|    1753|\n",
      "|      false|2018-01-02 10:49:00|            null|         null|    1753|\n",
      "|      false|2018-01-02 13:45:00|            null|         null|    1753|\n",
      "|      false|2018-01-02 14:09:00|            null|         null|    1753|\n",
      "|      false|2018-01-02 14:34:00|            null|         null|    1753|\n",
      "+-----------+-------------------+----------------+-------------+--------+\n",
      "only showing top 5 rows\n",
      "\n"
     ]
    },
    {
     "name": "stderr",
     "output_type": "stream",
     "text": [
      "\r",
      "                                                                                \r"
     ]
    }
   ],
   "source": [
    "df.select('case_closed', 'case_opened_date', 'case_closed_date', 'days_to_close', 'case_age').where('case_closed == false').show(5)"
   ]
  },
  {
   "cell_type": "code",
   "execution_count": 98,
   "id": "1e1807ab",
   "metadata": {},
   "outputs": [],
   "source": [
    "df = df.withColumn('case_lifetime', when(expr('! case_closed'), col('case_age')).otherwise(col('days_to_close')))"
   ]
  },
  {
   "cell_type": "code",
   "execution_count": 99,
   "id": "53ca9830",
   "metadata": {},
   "outputs": [
    {
     "name": "stdout",
     "output_type": "stream",
     "text": [
      "22/10/21 15:43:34 WARN TaskSetManager: Stage 71 contains a task of very large size (2205 KiB). The maximum recommended task size is 1000 KiB.\n"
     ]
    },
    {
     "name": "stderr",
     "output_type": "stream",
     "text": [
      "\r",
      "[Stage 71:>                                                         (0 + 1) / 1]\r"
     ]
    },
    {
     "name": "stdout",
     "output_type": "stream",
     "text": [
      "22/10/21 15:43:38 WARN PythonRunner: Detected deadlock while completing task 0.0 in stage 71 (TID 164): Attempting to kill Python Worker\n",
      "+-----------+-------------------+-------------+--------+-------------+\n",
      "|case_closed|   case_opened_date|days_to_close|case_age|case_lifetime|\n",
      "+-----------+-------------------+-------------+--------+-------------+\n",
      "|       true|2018-01-01 00:42:00|            0|    1754|            0|\n",
      "|       true|2018-01-01 00:46:00|            2|    1754|            2|\n",
      "|       true|2018-01-01 00:48:00|            1|    1754|            1|\n",
      "|       true|2018-01-01 01:29:00|            1|    1754|            1|\n",
      "|       true|2018-01-01 01:34:00|            0|    1754|            0|\n",
      "+-----------+-------------------+-------------+--------+-------------+\n",
      "only showing top 5 rows\n",
      "\n"
     ]
    },
    {
     "name": "stderr",
     "output_type": "stream",
     "text": [
      "\r",
      "                                                                                \r"
     ]
    }
   ],
   "source": [
    "df.select('case_closed', 'case_opened_date', 'days_to_close', 'case_age', 'case_lifetime').where('case_closed == true').show(5)"
   ]
  },
  {
   "cell_type": "code",
   "execution_count": 100,
   "id": "133a323d",
   "metadata": {},
   "outputs": [
    {
     "name": "stdout",
     "output_type": "stream",
     "text": [
      "22/10/21 15:44:03 WARN TaskSetManager: Stage 72 contains a task of very large size (2205 KiB). The maximum recommended task size is 1000 KiB.\n"
     ]
    },
    {
     "name": "stderr",
     "output_type": "stream",
     "text": [
      "\r",
      "[Stage 72:>                                                         (0 + 1) / 1]\r"
     ]
    },
    {
     "name": "stdout",
     "output_type": "stream",
     "text": [
      "22/10/21 15:44:07 WARN PythonRunner: Detected deadlock while completing task 0.0 in stage 72 (TID 165): Attempting to kill Python Worker\n",
      "+-----------+-------------------+-------------+--------+-------------+\n",
      "|case_closed|   case_opened_date|days_to_close|case_age|case_lifetime|\n",
      "+-----------+-------------------+-------------+--------+-------------+\n",
      "|      false|2018-01-02 09:39:00|         null|    1753|         1753|\n",
      "|      false|2018-01-02 10:49:00|         null|    1753|         1753|\n",
      "|      false|2018-01-02 13:45:00|         null|    1753|         1753|\n",
      "|      false|2018-01-02 14:09:00|         null|    1753|         1753|\n",
      "|      false|2018-01-02 14:34:00|         null|    1753|         1753|\n",
      "+-----------+-------------------+-------------+--------+-------------+\n",
      "only showing top 5 rows\n",
      "\n"
     ]
    },
    {
     "name": "stderr",
     "output_type": "stream",
     "text": [
      "\r",
      "                                                                                \r"
     ]
    }
   ],
   "source": [
    "df.select('case_closed', 'case_opened_date', 'days_to_close', 'case_age', 'case_lifetime').where('case_closed == false').show(5)"
   ]
  },
  {
   "cell_type": "code",
   "execution_count": 101,
   "id": "8880bb89",
   "metadata": {},
   "outputs": [],
   "source": [
    "df = df.drop('case_age', 'days_to_close')"
   ]
  },
  {
   "cell_type": "code",
   "execution_count": 102,
   "id": "f618a6df",
   "metadata": {},
   "outputs": [
    {
     "data": {
      "text/plain": [
       "['case_id',\n",
       " 'case_opened_date',\n",
       " 'case_closed_date',\n",
       " 'case_due_date',\n",
       " 'case_late',\n",
       " 'num_days_late',\n",
       " 'case_closed',\n",
       " 'dept_division',\n",
       " 'service_request_type',\n",
       " 'SLA_days',\n",
       " 'case_status',\n",
       " 'source_id',\n",
       " 'request_address',\n",
       " 'council_district',\n",
       " 'num_weeks_late',\n",
       " 'zip_code',\n",
       " 'case_lifetime']"
      ]
     },
     "execution_count": 102,
     "metadata": {},
     "output_type": "execute_result"
    }
   ],
   "source": [
    "df.columns"
   ]
  },
  {
   "cell_type": "code",
   "execution_count": 103,
   "id": "5c06ea19",
   "metadata": {},
   "outputs": [
    {
     "name": "stdout",
     "output_type": "stream",
     "text": [
      "22/10/21 15:44:55 WARN TaskSetManager: Stage 73 contains a task of very large size (2205 KiB). The maximum recommended task size is 1000 KiB.\n"
     ]
    },
    {
     "name": "stderr",
     "output_type": "stream",
     "text": [
      "\r",
      "[Stage 73:>                                                         (0 + 1) / 1]\r"
     ]
    },
    {
     "name": "stdout",
     "output_type": "stream",
     "text": [
      "22/10/21 15:44:59 WARN PythonRunner: Detected deadlock while completing task 0.0 in stage 73 (TID 166): Attempting to kill Python Worker\n",
      "+----------------+\n",
      "|   dept_division|\n",
      "+----------------+\n",
      "|Field Operations|\n",
      "|     Storm Water|\n",
      "|     Storm Water|\n",
      "|Code Enforcement|\n",
      "|Field Operations|\n",
      "+----------------+\n",
      "only showing top 5 rows\n",
      "\n"
     ]
    },
    {
     "name": "stderr",
     "output_type": "stream",
     "text": [
      "\r",
      "                                                                                \r"
     ]
    }
   ],
   "source": [
    "df.select('dept_division').show(5)"
   ]
  },
  {
   "cell_type": "code",
   "execution_count": 104,
   "id": "d879b169",
   "metadata": {},
   "outputs": [
    {
     "data": {
      "text/plain": [
       "DataFrame[dept_division: string, dept_name: string, standardized_dept_name: string, dept_subject_to_SLA: string]"
      ]
     },
     "execution_count": 104,
     "metadata": {},
     "output_type": "execute_result"
    }
   ],
   "source": [
    "query = 'select * from dept'\n",
    "dept = pd.read_sql(query, url)\n",
    "dept = spark.createDataFrame(dept)\n",
    "dept"
   ]
  },
  {
   "cell_type": "code",
   "execution_count": 105,
   "id": "03134636",
   "metadata": {},
   "outputs": [
    {
     "name": "stdout",
     "output_type": "stream",
     "text": [
      "+--------------------+--------------------+----------------------+-------------------+\n",
      "|       dept_division|           dept_name|standardized_dept_name|dept_subject_to_SLA|\n",
      "+--------------------+--------------------+----------------------+-------------------+\n",
      "|     311 Call Center|    Customer Service|      Customer Service|                YES|\n",
      "|               Brush|Solid Waste Manag...|           Solid Waste|                YES|\n",
      "|     Clean and Green|Parks and Recreation|    Parks & Recreation|                YES|\n",
      "|Clean and Green N...|Parks and Recreation|    Parks & Recreation|                YES|\n",
      "|    Code Enforcement|Code Enforcement ...|  DSD/Code Enforcement|                YES|\n",
      "+--------------------+--------------------+----------------------+-------------------+\n",
      "only showing top 5 rows\n",
      "\n"
     ]
    }
   ],
   "source": [
    "dept.show(5)"
   ]
  },
  {
   "cell_type": "code",
   "execution_count": 106,
   "id": "292e3de5",
   "metadata": {},
   "outputs": [],
   "source": [
    "df = df.join(dept, 'dept_division', 'left')"
   ]
  },
  {
   "cell_type": "code",
   "execution_count": 107,
   "id": "a801861f",
   "metadata": {},
   "outputs": [
    {
     "name": "stdout",
     "output_type": "stream",
     "text": [
      "22/10/21 15:46:24 WARN TaskSetManager: Stage 76 contains a task of very large size (2205 KiB). The maximum recommended task size is 1000 KiB.\n"
     ]
    },
    {
     "name": "stderr",
     "output_type": "stream",
     "text": [
      "[Stage 76:=============================>                            (4 + 4) / 8]\r"
     ]
    },
    {
     "name": "stdout",
     "output_type": "stream",
     "text": [
      "22/10/21 15:46:29 WARN PythonRunner: Detected deadlock while completing task 5.0 in stage 76 (TID 174): Attempting to kill Python Worker\n",
      "22/10/21 15:46:29 WARN PythonRunner: Detected deadlock while completing task 0.0 in stage 76 (TID 169): Attempting to kill Python Worker\n",
      "22/10/21 15:46:29 WARN PythonRunner: Detected deadlock while completing task 3.0 in stage 76 (TID 172): Attempting to kill Python Worker\n",
      "22/10/21 15:46:29 WARN PythonRunner: Detected deadlock while completing task 7.0 in stage 76 (TID 176): Attempting to kill Python Worker\n",
      "-RECORD 0--------------------------------------\n",
      " dept_division          | Field Operations     \n",
      " case_id                | 1014127332           \n",
      " case_opened_date       | 2018-01-01 00:42:00  \n",
      " case_closed_date       | 2018-01-01 12:29:00  \n",
      " case_due_date          | 2020-09-26 00:42:00  \n",
      " case_late              | false                \n",
      " num_days_late          | -998.5087616         \n",
      " case_closed            | true                 \n",
      " service_request_type   | Stray Animal         \n",
      " SLA_days               | 999.0                \n",
      " case_status            | Closed               \n",
      " source_id              | svcCRMLS             \n",
      " request_address        | 2315  el paso st,... \n",
      " council_district       | 005                  \n",
      " num_weeks_late         | -142.6441088         \n",
      " zip_code               | 78207                \n",
      " case_lifetime          | 0                    \n",
      " dept_name              | Animal Care Services \n",
      " standardized_dept_name | Animal Care Services \n",
      " dept_subject_to_SLA    | YES                  \n",
      "only showing top 1 row\n",
      "\n"
     ]
    },
    {
     "name": "stderr",
     "output_type": "stream",
     "text": [
      "\r",
      "[Stage 76:==================================================>       (7 + 1) / 8]\r",
      "\r",
      "                                                                                \r"
     ]
    }
   ],
   "source": [
    "df.show(1, vertical=True)"
   ]
  },
  {
   "cell_type": "code",
   "execution_count": 108,
   "id": "5e3cb5ac",
   "metadata": {},
   "outputs": [],
   "source": [
    "df = df.drop('dept_division', 'dept_name')"
   ]
  },
  {
   "cell_type": "code",
   "execution_count": 109,
   "id": "72e03c70",
   "metadata": {},
   "outputs": [
    {
     "name": "stdout",
     "output_type": "stream",
     "text": [
      "22/10/21 15:47:09 WARN TaskSetManager: Stage 82 contains a task of very large size (2205 KiB). The maximum recommended task size is 1000 KiB.\n"
     ]
    },
    {
     "name": "stderr",
     "output_type": "stream",
     "text": [
      "[Stage 82:====================================>                     (5 + 3) / 8]\r"
     ]
    },
    {
     "name": "stdout",
     "output_type": "stream",
     "text": [
      "22/10/21 15:47:13 WARN PythonRunner: Detected deadlock while completing task 7.0 in stage 82 (TID 194): Attempting to kill Python Worker\n",
      "22/10/21 15:47:13 WARN PythonRunner: Detected deadlock while completing task 0.0 in stage 82 (TID 187): Attempting to kill Python Worker\n",
      "22/10/21 15:47:13 WARN PythonRunner: Detected deadlock while completing task 1.0 in stage 82 (TID 188): Attempting to kill Python Worker\n",
      "-RECORD 0--------------------------------------\n",
      " case_id                | 1014127332           \n",
      " case_opened_date       | 2018-01-01 00:42:00  \n",
      " case_closed_date       | 2018-01-01 12:29:00  \n",
      " case_due_date          | 2020-09-26 00:42:00  \n",
      " case_late              | false                \n",
      " num_days_late          | -998.5087616         \n",
      " case_closed            | true                 \n",
      " service_request_type   | Stray Animal         \n",
      " SLA_days               | 999.0                \n",
      " case_status            | Closed               \n",
      " source_id              | svcCRMLS             \n",
      " request_address        | 2315  el paso st,... \n",
      " council_district       | 005                  \n",
      " num_weeks_late         | -142.6441088         \n",
      " zip_code               | 78207                \n",
      " case_lifetime          | 0                    \n",
      " standardized_dept_name | Animal Care Services \n",
      " dept_subject_to_SLA    | YES                  \n",
      "only showing top 1 row\n",
      "\n"
     ]
    },
    {
     "name": "stderr",
     "output_type": "stream",
     "text": [
      "\r",
      "                                                                                \r"
     ]
    }
   ],
   "source": [
    "df.show(1, vertical=True)"
   ]
  },
  {
   "cell_type": "code",
   "execution_count": 110,
   "id": "842a9fd0",
   "metadata": {},
   "outputs": [
    {
     "name": "stdout",
     "output_type": "stream",
     "text": [
      "22/10/21 15:47:37 WARN TaskSetManager: Stage 88 contains a task of very large size (2205 KiB). The maximum recommended task size is 1000 KiB.\n"
     ]
    },
    {
     "name": "stderr",
     "output_type": "stream",
     "text": [
      "                                                                                \r"
     ]
    },
    {
     "name": "stdout",
     "output_type": "stream",
     "text": [
      "+-------------------+\n",
      "|dept_subject_to_SLA|\n",
      "+-------------------+\n",
      "|                YES|\n",
      "|                 NO|\n",
      "+-------------------+\n",
      "\n"
     ]
    }
   ],
   "source": [
    "df.select('dept_subject_to_SLA').distinct().show()"
   ]
  },
  {
   "cell_type": "code",
   "execution_count": 111,
   "id": "b1d452fb",
   "metadata": {},
   "outputs": [
    {
     "data": {
      "text/plain": [
       "[('case_id', 'bigint'),\n",
       " ('case_opened_date', 'timestamp'),\n",
       " ('case_closed_date', 'timestamp'),\n",
       " ('case_due_date', 'timestamp'),\n",
       " ('case_late', 'boolean'),\n",
       " ('num_days_late', 'double'),\n",
       " ('case_closed', 'boolean'),\n",
       " ('service_request_type', 'string'),\n",
       " ('SLA_days', 'double'),\n",
       " ('case_status', 'string'),\n",
       " ('source_id', 'string'),\n",
       " ('request_address', 'string'),\n",
       " ('council_district', 'string'),\n",
       " ('num_weeks_late', 'double'),\n",
       " ('zip_code', 'string'),\n",
       " ('case_lifetime', 'int'),\n",
       " ('standardized_dept_name', 'string'),\n",
       " ('dept_subject_to_SLA', 'string')]"
      ]
     },
     "execution_count": 111,
     "metadata": {},
     "output_type": "execute_result"
    }
   ],
   "source": [
    "df.dtypes"
   ]
  },
  {
   "cell_type": "code",
   "execution_count": 112,
   "id": "7c804357",
   "metadata": {},
   "outputs": [],
   "source": [
    "df = df.withColumn('dept_subject_to_SLA', expr('dept_subject_to_SLA == \"YES\"'))"
   ]
  },
  {
   "cell_type": "code",
   "execution_count": 113,
   "id": "714695c9",
   "metadata": {},
   "outputs": [
    {
     "name": "stdout",
     "output_type": "stream",
     "text": [
      "22/10/21 15:48:41 WARN TaskSetManager: Stage 97 contains a task of very large size (2205 KiB). The maximum recommended task size is 1000 KiB.\n"
     ]
    },
    {
     "name": "stderr",
     "output_type": "stream",
     "text": [
      "\r",
      "[Stage 97:==================================================>       (7 + 1) / 8]\r"
     ]
    },
    {
     "name": "stdout",
     "output_type": "stream",
     "text": [
      "22/10/21 15:48:45 WARN PythonRunner: Detected deadlock while completing task 3.0 in stage 97 (TID 227): Attempting to kill Python Worker\n",
      "-RECORD 0--------------------------------------\n",
      " case_id                | 1014127332           \n",
      " case_opened_date       | 2018-01-01 00:42:00  \n",
      " case_closed_date       | 2018-01-01 12:29:00  \n",
      " case_due_date          | 2020-09-26 00:42:00  \n",
      " case_late              | false                \n",
      " num_days_late          | -998.5087616         \n",
      " case_closed            | true                 \n",
      " service_request_type   | Stray Animal         \n",
      " SLA_days               | 999.0                \n",
      " case_status            | Closed               \n",
      " source_id              | svcCRMLS             \n",
      " request_address        | 2315  el paso st,... \n",
      " council_district       | 005                  \n",
      " num_weeks_late         | -142.6441088         \n",
      " zip_code               | 78207                \n",
      " case_lifetime          | 0                    \n",
      " standardized_dept_name | Animal Care Services \n",
      " dept_subject_to_SLA    | true                 \n",
      "only showing top 1 row\n",
      "\n"
     ]
    },
    {
     "name": "stderr",
     "output_type": "stream",
     "text": [
      "\r",
      "                                                                                \r"
     ]
    }
   ],
   "source": [
    "df.show(1, vertical=True)"
   ]
  },
  {
   "cell_type": "code",
   "execution_count": 114,
   "id": "479de6c8",
   "metadata": {},
   "outputs": [
    {
     "data": {
      "text/plain": [
       "[('case_id', 'bigint'),\n",
       " ('case_opened_date', 'timestamp'),\n",
       " ('case_closed_date', 'timestamp'),\n",
       " ('case_due_date', 'timestamp'),\n",
       " ('case_late', 'boolean'),\n",
       " ('num_days_late', 'double'),\n",
       " ('case_closed', 'boolean'),\n",
       " ('service_request_type', 'string'),\n",
       " ('SLA_days', 'double'),\n",
       " ('case_status', 'string'),\n",
       " ('source_id', 'string'),\n",
       " ('request_address', 'string'),\n",
       " ('council_district', 'string'),\n",
       " ('num_weeks_late', 'double'),\n",
       " ('zip_code', 'string'),\n",
       " ('case_lifetime', 'int'),\n",
       " ('standardized_dept_name', 'string'),\n",
       " ('dept_subject_to_SLA', 'boolean')]"
      ]
     },
     "execution_count": 114,
     "metadata": {},
     "output_type": "execute_result"
    }
   ],
   "source": [
    "df.dtypes"
   ]
  },
  {
   "cell_type": "code",
   "execution_count": 115,
   "id": "499950f2",
   "metadata": {},
   "outputs": [
    {
     "name": "stdout",
     "output_type": "stream",
     "text": [
      "22/10/21 15:48:59 WARN TaskSetManager: Stage 103 contains a task of very large size (2205 KiB). The maximum recommended task size is 1000 KiB.\n"
     ]
    },
    {
     "name": "stderr",
     "output_type": "stream",
     "text": [
      "                                                                                \r"
     ]
    },
    {
     "data": {
      "text/plain": [
       "100000"
      ]
     },
     "execution_count": 115,
     "metadata": {},
     "output_type": "execute_result"
    }
   ],
   "source": [
    "df.count()"
   ]
  },
  {
   "cell_type": "code",
   "execution_count": 116,
   "id": "3070e306",
   "metadata": {},
   "outputs": [],
   "source": [
    "train, test = df.randomSplit([.8,.2], seed=123)"
   ]
  },
  {
   "cell_type": "code",
   "execution_count": 117,
   "id": "6ba1ac6b",
   "metadata": {},
   "outputs": [
    {
     "name": "stdout",
     "output_type": "stream",
     "text": [
      "22/10/21 15:49:34 WARN TaskSetManager: Stage 112 contains a task of very large size (2205 KiB). The maximum recommended task size is 1000 KiB.\n"
     ]
    },
    {
     "name": "stderr",
     "output_type": "stream",
     "text": [
      "                                                                                \r"
     ]
    },
    {
     "name": "stdout",
     "output_type": "stream",
     "text": [
      "22/10/21 15:49:37 WARN TaskSetManager: Stage 121 contains a task of very large size (2205 KiB). The maximum recommended task size is 1000 KiB.\n"
     ]
    },
    {
     "name": "stderr",
     "output_type": "stream",
     "text": [
      "                                                                                \r"
     ]
    },
    {
     "data": {
      "text/plain": [
       "(80219, 19781)"
      ]
     },
     "execution_count": 117,
     "metadata": {},
     "output_type": "execute_result"
    }
   ],
   "source": [
    "train.count(), test.count()"
   ]
  },
  {
   "cell_type": "code",
   "execution_count": 118,
   "id": "7561ab07",
   "metadata": {},
   "outputs": [],
   "source": [
    "train, validate, test = df.randomSplit([.6,.2,.2], seed=123)"
   ]
  },
  {
   "cell_type": "code",
   "execution_count": 119,
   "id": "d8789e35",
   "metadata": {},
   "outputs": [
    {
     "name": "stdout",
     "output_type": "stream",
     "text": [
      "22/10/21 15:50:30 WARN TaskSetManager: Stage 130 contains a task of very large size (2205 KiB). The maximum recommended task size is 1000 KiB.\n"
     ]
    },
    {
     "name": "stderr",
     "output_type": "stream",
     "text": [
      "                                                                                \r"
     ]
    },
    {
     "name": "stdout",
     "output_type": "stream",
     "text": [
      "22/10/21 15:50:33 WARN TaskSetManager: Stage 139 contains a task of very large size (2205 KiB). The maximum recommended task size is 1000 KiB.\n"
     ]
    },
    {
     "name": "stderr",
     "output_type": "stream",
     "text": [
      "                                                                                \r"
     ]
    },
    {
     "name": "stdout",
     "output_type": "stream",
     "text": [
      "22/10/21 15:50:35 WARN TaskSetManager: Stage 148 contains a task of very large size (2205 KiB). The maximum recommended task size is 1000 KiB.\n"
     ]
    },
    {
     "name": "stderr",
     "output_type": "stream",
     "text": [
      "                                                                                \r"
     ]
    },
    {
     "data": {
      "text/plain": [
       "(60274, 19945, 19781)"
      ]
     },
     "execution_count": 119,
     "metadata": {},
     "output_type": "execute_result"
    }
   ],
   "source": [
    "train.count(), validate.count(), test.count()"
   ]
  },
  {
   "cell_type": "code",
   "execution_count": null,
   "id": "6c77ba23",
   "metadata": {},
   "outputs": [],
   "source": []
  }
 ],
 "metadata": {
  "kernelspec": {
   "display_name": "Python 3 (ipykernel)",
   "language": "python",
   "name": "python3"
  },
  "language_info": {
   "codemirror_mode": {
    "name": "ipython",
    "version": 3
   },
   "file_extension": ".py",
   "mimetype": "text/x-python",
   "name": "python",
   "nbconvert_exporter": "python",
   "pygments_lexer": "ipython3",
   "version": "3.9.12"
  }
 },
 "nbformat": 4,
 "nbformat_minor": 5
}
